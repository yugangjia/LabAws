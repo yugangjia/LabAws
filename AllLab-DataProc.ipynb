{
 "cells": [
  {
   "cell_type": "code",
   "execution_count": 1,
   "id": "0054b36f-4f5f-40cc-b859-a99cb4edea1a",
   "metadata": {},
   "outputs": [],
   "source": [
    "import matplotlib.pyplot as plt\n",
    "import pandas as pd\n",
    "import numpy as np\n",
    "from itertools import product\n",
    "from datetime import datetime, timedelta\n",
    "import matplotlib.pyplot as plt\n",
    "import xgboost as xgb\n",
    "from sklearn.model_selection import train_test_split,train_test_split, GridSearchCV\n",
    "from sklearn.metrics import accuracy_score,mean_squared_error, mean_absolute_error, r2_score,confusion_matrix\n",
    "from sklearn.preprocessing import MinMaxScaler"
   ]
  },
  {
   "cell_type": "code",
   "execution_count": 2,
   "id": "286643c7-3df0-44e6-9ade-6f8df3686552",
   "metadata": {},
   "outputs": [],
   "source": [
    "import boto3\n",
    "s3 = boto3.client('s3')\n",
    "bucket_name = 'sagemaker-studio-905418013525-nvxe84zgs6'\n",
    "file_path = 'Labrado/alllabs1000adm/alllabs1000adm.csv'\n",
    "obj = s3.get_object(Bucket=bucket_name, Key=file_path)\n",
    "rawdata = pd.read_csv(obj['Body'])\n",
    "rawdata['itemid'] = rawdata['itemid'].astype(\"int64\")\n",
    "rawdata['hadm_id'] = rawdata['hadm_id'].astype(\"int64\")"
   ]
  },
  {
   "cell_type": "code",
   "execution_count": 3,
   "id": "3bb8cbde-ae84-492e-a8fd-c5d4d1b5e424",
   "metadata": {},
   "outputs": [
    {
     "data": {
      "text/plain": [
       "(64914520, 6)"
      ]
     },
     "execution_count": 3,
     "metadata": {},
     "output_type": "execute_result"
    }
   ],
   "source": [
    "rawdata.shape"
   ]
  },
  {
   "cell_type": "code",
   "execution_count": 4,
   "id": "a0b01e31-40d7-4eb0-a304-c3bf0531306b",
   "metadata": {},
   "outputs": [
    {
     "name": "stdout",
     "output_type": "stream",
     "text": [
      "split year is 2178\n"
     ]
    }
   ],
   "source": [
    "unique_hadm_by_year = rawdata.groupby('chartyear')['hadm_id'].nunique()\n",
    "cumulative_sum = unique_hadm_by_year.cumsum()\n",
    "total_sum = cumulative_sum.iloc[-1]\n",
    "split_index = cumulative_sum[cumulative_sum >= 0.8 * total_sum].index[0]\n",
    "print(\"split year is\",split_index)"
   ]
  },
  {
   "cell_type": "code",
   "execution_count": 5,
   "id": "776933ac-b546-47a6-a7db-5071bc4b20d2",
   "metadata": {},
   "outputs": [
    {
     "data": {
      "text/plain": [
       "375"
      ]
     },
     "execution_count": 5,
     "metadata": {},
     "output_type": "execute_result"
    }
   ],
   "source": [
    "hadm_id_indices = rawdata.groupby('hadm_id').apply(lambda group: {'start_index': group.index.min(), 'end_index': group.index.max()+1}).to_dict()\n",
    "Labitemlist = rawdata['itemid'].value_counts().sort_values(ascending=False)\n",
    "Labitemlist = Labitemlist.reset_index()\n",
    "Labitemlist.columns = ['unique_value', 'count']\n",
    "len(Labitemlist)"
   ]
  },
  {
   "cell_type": "code",
   "execution_count": 16,
   "id": "6ec94a43-a84d-4a30-9ca3-681e7cc22f7c",
   "metadata": {},
   "outputs": [
    {
     "data": {
      "text/plain": [
       "unique_value      51222\n",
       "count           1901549\n",
       "Name: 10, dtype: int64"
      ]
     },
     "execution_count": 16,
     "metadata": {},
     "output_type": "execute_result"
    }
   ],
   "source": [
    "Labitemlist.iloc[10,:]"
   ]
  },
  {
   "cell_type": "code",
   "execution_count": 6,
   "id": "427c3363-1609-4133-976b-9a334c520369",
   "metadata": {},
   "outputs": [
    {
     "name": "stdout",
     "output_type": "stream",
     "text": [
      "50912\n"
     ]
    },
    {
     "data": {
      "text/plain": [
       "(1995732, 4)"
      ]
     },
     "execution_count": 6,
     "metadata": {},
     "output_type": "execute_result"
    }
   ],
   "source": [
    "itemid = Labitemlist['unique_value'][4]\n",
    "print(itemid)\n",
    "this_rl = rawdata[rawdata['itemid']==itemid][['hadm_id','chartyear','valuenum','charttime_diff_hours']]\n",
    "this_rl.shape"
   ]
  },
  {
   "cell_type": "code",
   "execution_count": 7,
   "id": "dffa62b9-ffe9-40b2-ad68-d53581a9ea84",
   "metadata": {},
   "outputs": [
    {
     "data": {
      "text/html": [
       "<div>\n",
       "<style scoped>\n",
       "    .dataframe tbody tr th:only-of-type {\n",
       "        vertical-align: middle;\n",
       "    }\n",
       "\n",
       "    .dataframe tbody tr th {\n",
       "        vertical-align: top;\n",
       "    }\n",
       "\n",
       "    .dataframe thead th {\n",
       "        text-align: right;\n",
       "    }\n",
       "</style>\n",
       "<table border=\"1\" class=\"dataframe\">\n",
       "  <thead>\n",
       "    <tr style=\"text-align: right;\">\n",
       "      <th></th>\n",
       "      <th>hadm_id</th>\n",
       "      <th>itemid</th>\n",
       "      <th>label</th>\n",
       "      <th>chartyear</th>\n",
       "      <th>charttime_diff_hours</th>\n",
       "      <th>valuenum</th>\n",
       "    </tr>\n",
       "  </thead>\n",
       "  <tbody>\n",
       "    <tr>\n",
       "      <th>0</th>\n",
       "      <td>20000019</td>\n",
       "      <td>51222</td>\n",
       "      <td>Hemoglobin</td>\n",
       "      <td>2159</td>\n",
       "      <td>0</td>\n",
       "      <td>9.2</td>\n",
       "    </tr>\n",
       "    <tr>\n",
       "      <th>1</th>\n",
       "      <td>20000019</td>\n",
       "      <td>50868</td>\n",
       "      <td>Anion Gap</td>\n",
       "      <td>2159</td>\n",
       "      <td>0</td>\n",
       "      <td>14.0</td>\n",
       "    </tr>\n",
       "    <tr>\n",
       "      <th>2</th>\n",
       "      <td>20000019</td>\n",
       "      <td>51248</td>\n",
       "      <td>MCH</td>\n",
       "      <td>2159</td>\n",
       "      <td>0</td>\n",
       "      <td>29.8</td>\n",
       "    </tr>\n",
       "    <tr>\n",
       "      <th>3</th>\n",
       "      <td>20000019</td>\n",
       "      <td>50971</td>\n",
       "      <td>Potassium</td>\n",
       "      <td>2159</td>\n",
       "      <td>0</td>\n",
       "      <td>3.5</td>\n",
       "    </tr>\n",
       "    <tr>\n",
       "      <th>4</th>\n",
       "      <td>20000019</td>\n",
       "      <td>51265</td>\n",
       "      <td>Platelet Count</td>\n",
       "      <td>2159</td>\n",
       "      <td>0</td>\n",
       "      <td>183.0</td>\n",
       "    </tr>\n",
       "  </tbody>\n",
       "</table>\n",
       "</div>"
      ],
      "text/plain": [
       "    hadm_id  itemid           label  chartyear  charttime_diff_hours  valuenum\n",
       "0  20000019   51222      Hemoglobin       2159                     0       9.2\n",
       "1  20000019   50868       Anion Gap       2159                     0      14.0\n",
       "2  20000019   51248             MCH       2159                     0      29.8\n",
       "3  20000019   50971       Potassium       2159                     0       3.5\n",
       "4  20000019   51265  Platelet Count       2159                     0     183.0"
      ]
     },
     "execution_count": 7,
     "metadata": {},
     "output_type": "execute_result"
    }
   ],
   "source": [
    "rawdata.head()"
   ]
  },
  {
   "cell_type": "code",
   "execution_count": 8,
   "id": "c1bb9d40-b821-4e4d-aa70-d01d779b7f5b",
   "metadata": {},
   "outputs": [
    {
     "data": {
      "text/plain": [
       "(1995732, 754)"
      ]
     },
     "execution_count": 8,
     "metadata": {},
     "output_type": "execute_result"
    }
   ],
   "source": [
    "selected_rl = pd.DataFrame(columns=range(len(Labitemlist)*2+4), index=range(len(this_rl)))\n",
    "i = 4\n",
    "for name in Labitemlist['unique_value']:\n",
    "    selected_rl.rename(columns={i: name}, inplace=True)\n",
    "    i=i+1\n",
    "    selected_rl.rename(columns={i: f\"{name}_dt\"}, inplace=True)\n",
    "    i=i+1\n",
    "selected_rl.rename(columns={0: 'hadm_id'}, inplace=True)\n",
    "selected_rl.rename(columns={1: 'chartyear'}, inplace=True)\n",
    "selected_rl.rename(columns={2: 'valuenum'}, inplace=True)\n",
    "selected_rl.rename(columns={3: 'charttime_diff_hours'}, inplace=True)\n",
    "selected_rl = selected_rl.set_index(this_rl.index)\n",
    "selected_rl['hadm_id'] = this_rl['hadm_id']\n",
    "selected_rl['chartyear'] = this_rl['chartyear']\n",
    "selected_rl['valuenum'] = this_rl['valuenum']\n",
    "selected_rl['charttime_diff_hours'] = this_rl['charttime_diff_hours']\n",
    "selected_rl.shape"
   ]
  },
  {
   "cell_type": "code",
   "execution_count": 13,
   "id": "df57cd98-5828-4b0a-9bc6-b779b636a2e5",
   "metadata": {},
   "outputs": [
    {
     "data": {
      "text/html": [
       "<div>\n",
       "<style scoped>\n",
       "    .dataframe tbody tr th:only-of-type {\n",
       "        vertical-align: middle;\n",
       "    }\n",
       "\n",
       "    .dataframe tbody tr th {\n",
       "        vertical-align: top;\n",
       "    }\n",
       "\n",
       "    .dataframe thead th {\n",
       "        text-align: right;\n",
       "    }\n",
       "</style>\n",
       "<table border=\"1\" class=\"dataframe\">\n",
       "  <thead>\n",
       "    <tr style=\"text-align: right;\">\n",
       "      <th></th>\n",
       "      <th>hadm_id</th>\n",
       "      <th>chartyear</th>\n",
       "      <th>valuenum</th>\n",
       "      <th>charttime_diff_hours</th>\n",
       "      <th>50971</th>\n",
       "      <th>50971_dt</th>\n",
       "      <th>50983</th>\n",
       "      <th>50983_dt</th>\n",
       "      <th>50902</th>\n",
       "      <th>50902_dt</th>\n",
       "      <th>...</th>\n",
       "      <th>51088</th>\n",
       "      <th>51088_dt</th>\n",
       "      <th>51795</th>\n",
       "      <th>51795_dt</th>\n",
       "      <th>51068</th>\n",
       "      <th>51068_dt</th>\n",
       "      <th>51105</th>\n",
       "      <th>51105_dt</th>\n",
       "      <th>50881</th>\n",
       "      <th>50881_dt</th>\n",
       "    </tr>\n",
       "  </thead>\n",
       "  <tbody>\n",
       "    <tr>\n",
       "      <th>9</th>\n",
       "      <td>20000019</td>\n",
       "      <td>2159</td>\n",
       "      <td>1.1</td>\n",
       "      <td>0</td>\n",
       "      <td>3.5</td>\n",
       "      <td>0.0</td>\n",
       "      <td>137.0</td>\n",
       "      <td>0.0</td>\n",
       "      <td>103.0</td>\n",
       "      <td>0.0</td>\n",
       "      <td>...</td>\n",
       "      <td>NaN</td>\n",
       "      <td>NaN</td>\n",
       "      <td>NaN</td>\n",
       "      <td>NaN</td>\n",
       "      <td>NaN</td>\n",
       "      <td>NaN</td>\n",
       "      <td>NaN</td>\n",
       "      <td>NaN</td>\n",
       "      <td>NaN</td>\n",
       "      <td>NaN</td>\n",
       "    </tr>\n",
       "    <tr>\n",
       "      <th>36</th>\n",
       "      <td>20000019</td>\n",
       "      <td>2159</td>\n",
       "      <td>1.2</td>\n",
       "      <td>24</td>\n",
       "      <td>3.7</td>\n",
       "      <td>0.0</td>\n",
       "      <td>136.0</td>\n",
       "      <td>0.0</td>\n",
       "      <td>100.0</td>\n",
       "      <td>0.0</td>\n",
       "      <td>...</td>\n",
       "      <td>NaN</td>\n",
       "      <td>NaN</td>\n",
       "      <td>NaN</td>\n",
       "      <td>NaN</td>\n",
       "      <td>NaN</td>\n",
       "      <td>NaN</td>\n",
       "      <td>NaN</td>\n",
       "      <td>NaN</td>\n",
       "      <td>NaN</td>\n",
       "      <td>NaN</td>\n",
       "    </tr>\n",
       "    <tr>\n",
       "      <th>49</th>\n",
       "      <td>20000019</td>\n",
       "      <td>2159</td>\n",
       "      <td>0.9</td>\n",
       "      <td>49</td>\n",
       "      <td>3.9</td>\n",
       "      <td>0.0</td>\n",
       "      <td>138.0</td>\n",
       "      <td>0.0</td>\n",
       "      <td>102.0</td>\n",
       "      <td>0.0</td>\n",
       "      <td>...</td>\n",
       "      <td>NaN</td>\n",
       "      <td>NaN</td>\n",
       "      <td>NaN</td>\n",
       "      <td>NaN</td>\n",
       "      <td>NaN</td>\n",
       "      <td>NaN</td>\n",
       "      <td>NaN</td>\n",
       "      <td>NaN</td>\n",
       "      <td>NaN</td>\n",
       "      <td>NaN</td>\n",
       "    </tr>\n",
       "    <tr>\n",
       "      <th>102</th>\n",
       "      <td>20000024</td>\n",
       "      <td>2151</td>\n",
       "      <td>1.1</td>\n",
       "      <td>0</td>\n",
       "      <td>5.2</td>\n",
       "      <td>0.0</td>\n",
       "      <td>140.0</td>\n",
       "      <td>0.0</td>\n",
       "      <td>104.0</td>\n",
       "      <td>0.0</td>\n",
       "      <td>...</td>\n",
       "      <td>NaN</td>\n",
       "      <td>NaN</td>\n",
       "      <td>NaN</td>\n",
       "      <td>NaN</td>\n",
       "      <td>NaN</td>\n",
       "      <td>NaN</td>\n",
       "      <td>NaN</td>\n",
       "      <td>NaN</td>\n",
       "      <td>NaN</td>\n",
       "      <td>NaN</td>\n",
       "    </tr>\n",
       "    <tr>\n",
       "      <th>115</th>\n",
       "      <td>20000034</td>\n",
       "      <td>2174</td>\n",
       "      <td>2.3</td>\n",
       "      <td>0</td>\n",
       "      <td>4.8</td>\n",
       "      <td>0.0</td>\n",
       "      <td>141.0</td>\n",
       "      <td>0.0</td>\n",
       "      <td>106.0</td>\n",
       "      <td>0.0</td>\n",
       "      <td>...</td>\n",
       "      <td>NaN</td>\n",
       "      <td>NaN</td>\n",
       "      <td>NaN</td>\n",
       "      <td>NaN</td>\n",
       "      <td>NaN</td>\n",
       "      <td>NaN</td>\n",
       "      <td>NaN</td>\n",
       "      <td>NaN</td>\n",
       "      <td>NaN</td>\n",
       "      <td>NaN</td>\n",
       "    </tr>\n",
       "  </tbody>\n",
       "</table>\n",
       "<p>5 rows × 754 columns</p>\n",
       "</div>"
      ],
      "text/plain": [
       "      hadm_id  chartyear  valuenum  charttime_diff_hours 50971 50971_dt  \\\n",
       "9    20000019       2159       1.1                     0   3.5      0.0   \n",
       "36   20000019       2159       1.2                    24   3.7      0.0   \n",
       "49   20000019       2159       0.9                    49   3.9      0.0   \n",
       "102  20000024       2151       1.1                     0   5.2      0.0   \n",
       "115  20000034       2174       2.3                     0   4.8      0.0   \n",
       "\n",
       "     50983 50983_dt  50902 50902_dt  ... 51088 51088_dt 51795 51795_dt 51068  \\\n",
       "9    137.0      0.0  103.0      0.0  ...   NaN      NaN   NaN      NaN   NaN   \n",
       "36   136.0      0.0  100.0      0.0  ...   NaN      NaN   NaN      NaN   NaN   \n",
       "49   138.0      0.0  102.0      0.0  ...   NaN      NaN   NaN      NaN   NaN   \n",
       "102  140.0      0.0  104.0      0.0  ...   NaN      NaN   NaN      NaN   NaN   \n",
       "115  141.0      0.0  106.0      0.0  ...   NaN      NaN   NaN      NaN   NaN   \n",
       "\n",
       "    51068_dt 51105 51105_dt 50881 50881_dt  \n",
       "9        NaN   NaN      NaN   NaN      NaN  \n",
       "36       NaN   NaN      NaN   NaN      NaN  \n",
       "49       NaN   NaN      NaN   NaN      NaN  \n",
       "102      NaN   NaN      NaN   NaN      NaN  \n",
       "115      NaN   NaN      NaN   NaN      NaN  \n",
       "\n",
       "[5 rows x 754 columns]"
      ]
     },
     "execution_count": 13,
     "metadata": {},
     "output_type": "execute_result"
    }
   ],
   "source": [
    "selected_rl.head()"
   ]
  },
  {
   "cell_type": "code",
   "execution_count": null,
   "id": "27297777-212a-4ceb-9f4a-527309c92962",
   "metadata": {
    "editable": true,
    "slideshow": {
     "slide_type": ""
    },
    "tags": []
   },
   "outputs": [
    {
     "name": "stdout",
     "output_type": "stream",
     "text": [
      "Current time: 2024-05-13 20:49:32.124962\n"
     ]
    }
   ],
   "source": [
    "print(\"Current time:\", datetime.now())\n",
    "\n",
    "for inx, row in selected_rl.iterrows():\n",
    "  hadm_id = row['hadm_id']\n",
    "  start_index = hadm_id_indices.get(hadm_id)['start_index']\n",
    "  # Get the end index for selection\n",
    "  end_index = hadm_id_indices.get(hadm_id)['end_index']\n",
    "  filtered_df = pd.concat([rawdata.iloc[start_index:inx], rawdata.iloc[inx + 1:end_index]])\n",
    "  filtered_df['abs_time_diff'] = abs(filtered_df['charttime_diff_hours']-row['charttime_diff_hours'])\n",
    "  idx_min_abs_time_diff = filtered_df.groupby('itemid')['abs_time_diff'].idxmin()\n",
    "  pred_df = filtered_df.loc[idx_min_abs_time_diff, ['itemid', 'valuenum','abs_time_diff']]\n",
    "  pred_df['itemid'] = pred_df['itemid'].astype(\"int64\")\n",
    "  for _,prow in pred_df.iterrows():\n",
    "    iid = prow['itemid'].astype(\"int64\")\n",
    "    selected_rl.at[inx,iid] = prow['valuenum']\n",
    "    selected_rl.at[inx,f\"{iid}_dt\"] = prow['abs_time_diff']\n",
    "print(\"Current time:\", datetime.now())\n"
   ]
  },
  {
   "cell_type": "code",
   "execution_count": null,
   "id": "379cc0a6-bc0a-45b4-8f35-9b1f68ffd508",
   "metadata": {},
   "outputs": [],
   "source": [
    "file_name = f\"alllabs1000adm_{itemid}.csv\"\n",
    "file_key = f\"Labrado/alllabs1000adm/alllabs1000adm_{itemid}.csv\"\n",
    "s3.upload_file(file_name, bucket_name,file_key)"
   ]
  },
  {
   "cell_type": "code",
   "execution_count": null,
   "id": "bd59a74c-110e-4121-b4fb-86a765fad129",
   "metadata": {},
   "outputs": [],
   "source": [
    "selected_rl.to_csv(f\"alllabs1000adm_{itemid}.csv\")"
   ]
  },
  {
   "cell_type": "code",
   "execution_count": null,
   "id": "a0cbf87d-c713-4e77-a071-279fe53e9308",
   "metadata": {},
   "outputs": [],
   "source": []
  }
 ],
 "metadata": {
  "kernelspec": {
   "display_name": "Python 3 (ipykernel)",
   "language": "python",
   "name": "python3"
  },
  "language_info": {
   "codemirror_mode": {
    "name": "ipython",
    "version": 3
   },
   "file_extension": ".py",
   "mimetype": "text/x-python",
   "name": "python",
   "nbconvert_exporter": "python",
   "pygments_lexer": "ipython3",
   "version": "3.10.14"
  }
 },
 "nbformat": 4,
 "nbformat_minor": 5
}
