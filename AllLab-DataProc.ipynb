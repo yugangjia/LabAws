{
 "cells": [
  {
   "cell_type": "code",
   "execution_count": null,
   "id": "68359f29-f2c2-4d15-871b-d9388522e45d",
   "metadata": {},
   "outputs": [],
   "source": [
    "!pip install xgboost\n",
    "conda install -c conda-forge s3fs\n",
    "import s3fs"
   ]
  },
  {
   "cell_type": "code",
   "execution_count": 2,
   "id": "0054b36f-4f5f-40cc-b859-a99cb4edea1a",
   "metadata": {},
   "outputs": [],
   "source": [
    "import matplotlib.pyplot as plt\n",
    "import pandas as pd\n",
    "import numpy as np\n",
    "from itertools import product\n",
    "from datetime import datetime, timedelta\n",
    "import matplotlib.pyplot as plt\n",
    "import xgboost as xgb\n",
    "from sklearn.model_selection import train_test_split,train_test_split, GridSearchCV\n",
    "from sklearn.metrics import accuracy_score,mean_squared_error, mean_absolute_error, r2_score,confusion_matrix\n",
    "from sklearn.preprocessing import MinMaxScaler"
   ]
  },
  {
   "cell_type": "code",
   "execution_count": 3,
   "id": "286643c7-3df0-44e6-9ade-6f8df3686552",
   "metadata": {},
   "outputs": [],
   "source": [
    "import boto3\n",
    "s3 = boto3.client('s3')\n",
    "bucket_name = 'sagemaker-studio-905418013525-nvxe84zgs6'\n",
    "file_path = 'Labrado/alllabs1000adm/alllabs1000adm.csv'\n",
    "obj = s3.get_object(Bucket=bucket_name, Key=file_path)\n",
    "rawdata = pd.read_csv(obj['Body'])\n",
    "rawdata['itemid'] = rawdata['itemid'].astype(\"int64\")\n",
    "rawdata['hadm_id'] = rawdata['hadm_id'].astype(\"int64\")"
   ]
  },
  {
   "cell_type": "code",
   "execution_count": 4,
   "id": "3bb8cbde-ae84-492e-a8fd-c5d4d1b5e424",
   "metadata": {},
   "outputs": [
    {
     "data": {
      "text/plain": [
       "(64914520, 6)"
      ]
     },
     "execution_count": 4,
     "metadata": {},
     "output_type": "execute_result"
    }
   ],
   "source": [
    "rawdata.shape"
   ]
  },
  {
   "cell_type": "code",
   "execution_count": 4,
   "id": "a0b01e31-40d7-4eb0-a304-c3bf0531306b",
   "metadata": {},
   "outputs": [
    {
     "name": "stdout",
     "output_type": "stream",
     "text": [
      "split year is 2178\n"
     ]
    }
   ],
   "source": [
    "unique_hadm_by_year = rawdata.groupby('chartyear')['hadm_id'].nunique()\n",
    "cumulative_sum = unique_hadm_by_year.cumsum()\n",
    "total_sum = cumulative_sum.iloc[-1]\n",
    "split_index = cumulative_sum[cumulative_sum >= 0.8 * total_sum].index[0]\n",
    "print(\"split year is\",split_index)"
   ]
  },
  {
   "cell_type": "code",
   "execution_count": 5,
   "id": "776933ac-b546-47a6-a7db-5071bc4b20d2",
   "metadata": {},
   "outputs": [
    {
     "data": {
      "text/plain": [
       "375"
      ]
     },
     "execution_count": 5,
     "metadata": {},
     "output_type": "execute_result"
    }
   ],
   "source": [
    "hadm_id_indices = rawdata.groupby('hadm_id').apply(lambda group: {'start_index': group.index.min(), 'end_index': group.index.max()+1}).to_dict()\n",
    "Labitemlist = rawdata['itemid'].value_counts().sort_values(ascending=False)\n",
    "Labitemlist = Labitemlist.reset_index()\n",
    "Labitemlist.columns = ['unique_value', 'count']\n",
    "len(Labitemlist)"
   ]
  },
  {
   "cell_type": "code",
   "execution_count": 6,
   "id": "427c3363-1609-4133-976b-9a334c520369",
   "metadata": {},
   "outputs": [
    {
     "name": "stdout",
     "output_type": "stream",
     "text": [
      "50902\n"
     ]
    },
    {
     "data": {
      "text/plain": [
       "(2042431, 4)"
      ]
     },
     "execution_count": 6,
     "metadata": {},
     "output_type": "execute_result"
    }
   ],
   "source": [
    "itemid = Labitemlist['unique_value'][2]\n",
    "print(itemid)\n",
    "this_rl = rawdata[rawdata['itemid']==itemid][['hadm_id','chartyear','valuenum','charttime_diff_hours']]\n",
    "this_rl.shape"
   ]
  },
  {
   "cell_type": "code",
   "execution_count": 7,
   "id": "c1bb9d40-b821-4e4d-aa70-d01d779b7f5b",
   "metadata": {},
   "outputs": [
    {
     "data": {
      "text/plain": [
       "(2042431, 754)"
      ]
     },
     "execution_count": 7,
     "metadata": {},
     "output_type": "execute_result"
    }
   ],
   "source": [
    "selected_rl = pd.DataFrame(columns=range(len(Labitemlist)*2+4), index=range(len(this_rl)))\n",
    "i = 4\n",
    "for name in Labitemlist['unique_value']:\n",
    "    selected_rl.rename(columns={i: name}, inplace=True)\n",
    "    i=i+1\n",
    "    selected_rl.rename(columns={i: f\"{name}_dt\"}, inplace=True)\n",
    "    i=i+1\n",
    "selected_rl.rename(columns={0: 'hadm_id'}, inplace=True)\n",
    "selected_rl.rename(columns={1: 'chartyear'}, inplace=True)\n",
    "selected_rl.rename(columns={2: 'valuenum'}, inplace=True)\n",
    "selected_rl.rename(columns={3: 'charttime_diff_hours'}, inplace=True)\n",
    "selected_rl = selected_rl.set_index(this_rl.index)\n",
    "selected_rl['hadm_id'] = this_rl['hadm_id']\n",
    "selected_rl['chartyear'] = this_rl['chartyear']\n",
    "selected_rl['valuenum'] = this_rl['valuenum']\n",
    "selected_rl['charttime_diff_hours'] = this_rl['charttime_diff_hours']\n",
    "selected_rl.shape"
   ]
  },
  {
   "cell_type": "code",
   "execution_count": null,
   "id": "27297777-212a-4ceb-9f4a-527309c92962",
   "metadata": {
    "editable": true,
    "slideshow": {
     "slide_type": ""
    },
    "tags": []
   },
   "outputs": [],
   "source": [
    "for inx, row in selected_rl.iterrows():\n",
    "  hadm_id = row['hadm_id']\n",
    "  start_index = hadm_id_indices.get(hadm_id)['start_index']\n",
    "  # Get the end index for selection\n",
    "  end_index = hadm_id_indices.get(hadm_id)['end_index']\n",
    "  filtered_df = pd.concat([rawdata.iloc[start_index:inx], rawdata.iloc[inx + 1:end_index]])\n",
    "  filtered_df['abs_time_diff'] = abs(filtered_df['charttime_diff_hours']-row['charttime_diff_hours'])\n",
    "  idx_min_abs_time_diff = filtered_df.groupby('itemid')['abs_time_diff'].idxmin()\n",
    "  pred_df = filtered_df.loc[idx_min_abs_time_diff, ['itemid', 'valuenum','abs_time_diff']]\n",
    "  pred_df['itemid'] = pred_df['itemid'].astype(\"int64\")\n",
    "  for _,prow in pred_df.iterrows():\n",
    "    iid = prow['itemid'].astype(\"int64\")\n",
    "    selected_rl.at[inx,iid] = prow['valuenum']\n",
    "    selected_rl.at[inx,f\"{iid}_dt\"] = prow['abs_time_diff']"
   ]
  },
  {
   "cell_type": "code",
   "execution_count": null,
   "id": "54d4ce96-2eeb-4f77-b6d0-d169b89e6cf7",
   "metadata": {},
   "outputs": [],
   "source": [
    "selected_rl.head()"
   ]
  },
  {
   "cell_type": "code",
   "execution_count": null,
   "id": "379cc0a6-bc0a-45b4-8f35-9b1f68ffd508",
   "metadata": {},
   "outputs": [],
   "source": [
    "file_name = f\"alllabs1000adm_{itemid}.csv\"\n",
    "selected_rl.to_csv(f\"alllabs1000adm_{itemid}.csv\")\n",
    "file_key = f\"/Labrado/alllabs1000adm/alllabs1000adm_{itemid}.csv\"\n",
    "s3.upload_file(file_name, bucket_name,file_key)"
   ]
  }
 ],
 "metadata": {
  "kernelspec": {
   "display_name": "Python 3 (ipykernel)",
   "language": "python",
   "name": "python3"
  },
  "language_info": {
   "codemirror_mode": {
    "name": "ipython",
    "version": 3
   },
   "file_extension": ".py",
   "mimetype": "text/x-python",
   "name": "python",
   "nbconvert_exporter": "python",
   "pygments_lexer": "ipython3",
   "version": "3.10.14"
  }
 },
 "nbformat": 4,
 "nbformat_minor": 5
}
