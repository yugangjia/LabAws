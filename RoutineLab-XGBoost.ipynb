{
 "cells": [
  {
   "cell_type": "code",
   "execution_count": 2,
   "id": "0aa437cc-7707-4b3b-aed4-211d99be809d",
   "metadata": {},
   "outputs": [
    {
     "name": "stdout",
     "output_type": "stream",
     "text": [
      "Requirement already satisfied: xgboost in /opt/conda/lib/python3.10/site-packages (1.7.6)\n",
      "Requirement already satisfied: numpy in /opt/conda/lib/python3.10/site-packages (from xgboost) (1.26.4)\n",
      "Requirement already satisfied: scipy in /opt/conda/lib/python3.10/site-packages (from xgboost) (1.11.4)\n",
      "Collecting s3fs\n",
      "  Using cached s3fs-2024.3.1-py3-none-any.whl.metadata (1.6 kB)\n",
      "Requirement already satisfied: aiobotocore<3.0.0,>=2.5.4 in /opt/conda/lib/python3.10/site-packages (from s3fs) (2.12.2)\n",
      "Collecting fsspec==2024.3.1 (from s3fs)\n",
      "  Using cached fsspec-2024.3.1-py3-none-any.whl.metadata (6.8 kB)\n",
      "Requirement already satisfied: aiohttp!=4.0.0a0,!=4.0.0a1 in /opt/conda/lib/python3.10/site-packages (from s3fs) (3.9.3)\n",
      "Requirement already satisfied: botocore<1.34.52,>=1.34.41 in /opt/conda/lib/python3.10/site-packages (from aiobotocore<3.0.0,>=2.5.4->s3fs) (1.34.51)\n",
      "Requirement already satisfied: wrapt<2.0.0,>=1.10.10 in /opt/conda/lib/python3.10/site-packages (from aiobotocore<3.0.0,>=2.5.4->s3fs) (1.16.0)\n",
      "Requirement already satisfied: aioitertools<1.0.0,>=0.5.1 in /opt/conda/lib/python3.10/site-packages (from aiobotocore<3.0.0,>=2.5.4->s3fs) (0.11.0)\n",
      "Requirement already satisfied: aiosignal>=1.1.2 in /opt/conda/lib/python3.10/site-packages (from aiohttp!=4.0.0a0,!=4.0.0a1->s3fs) (1.3.1)\n",
      "Requirement already satisfied: attrs>=17.3.0 in /opt/conda/lib/python3.10/site-packages (from aiohttp!=4.0.0a0,!=4.0.0a1->s3fs) (23.2.0)\n",
      "Requirement already satisfied: frozenlist>=1.1.1 in /opt/conda/lib/python3.10/site-packages (from aiohttp!=4.0.0a0,!=4.0.0a1->s3fs) (1.4.1)\n",
      "Requirement already satisfied: multidict<7.0,>=4.5 in /opt/conda/lib/python3.10/site-packages (from aiohttp!=4.0.0a0,!=4.0.0a1->s3fs) (6.0.5)\n",
      "Requirement already satisfied: yarl<2.0,>=1.0 in /opt/conda/lib/python3.10/site-packages (from aiohttp!=4.0.0a0,!=4.0.0a1->s3fs) (1.9.4)\n",
      "Requirement already satisfied: async-timeout<5.0,>=4.0 in /opt/conda/lib/python3.10/site-packages (from aiohttp!=4.0.0a0,!=4.0.0a1->s3fs) (4.0.3)\n",
      "Requirement already satisfied: jmespath<2.0.0,>=0.7.1 in /opt/conda/lib/python3.10/site-packages (from botocore<1.34.52,>=1.34.41->aiobotocore<3.0.0,>=2.5.4->s3fs) (1.0.1)\n",
      "Requirement already satisfied: python-dateutil<3.0.0,>=2.1 in /opt/conda/lib/python3.10/site-packages (from botocore<1.34.52,>=1.34.41->aiobotocore<3.0.0,>=2.5.4->s3fs) (2.9.0)\n",
      "Requirement already satisfied: urllib3<2.1,>=1.25.4 in /opt/conda/lib/python3.10/site-packages (from botocore<1.34.52,>=1.34.41->aiobotocore<3.0.0,>=2.5.4->s3fs) (1.26.18)\n",
      "Requirement already satisfied: idna>=2.0 in /opt/conda/lib/python3.10/site-packages (from yarl<2.0,>=1.0->aiohttp!=4.0.0a0,!=4.0.0a1->s3fs) (3.6)\n",
      "Requirement already satisfied: six>=1.5 in /opt/conda/lib/python3.10/site-packages (from python-dateutil<3.0.0,>=2.1->botocore<1.34.52,>=1.34.41->aiobotocore<3.0.0,>=2.5.4->s3fs) (1.16.0)\n",
      "Using cached s3fs-2024.3.1-py3-none-any.whl (29 kB)\n",
      "Using cached fsspec-2024.3.1-py3-none-any.whl (171 kB)\n",
      "Installing collected packages: fsspec, s3fs\n",
      "  Attempting uninstall: fsspec\n",
      "    Found existing installation: fsspec 2023.6.0\n",
      "    Uninstalling fsspec-2023.6.0:\n",
      "      Successfully uninstalled fsspec-2023.6.0\n",
      "\u001b[31mERROR: pip's dependency resolver does not currently take into account all the packages that are installed. This behaviour is the source of the following dependency conflicts.\n",
      "jupyter-ai 2.12.0 requires faiss-cpu, which is not installed.\n",
      "datasets 2.18.0 requires fsspec[http]<=2024.2.0,>=2023.1.0, but you have fsspec 2024.3.1 which is incompatible.\n",
      "jupyter-scheduler 2.5.1 requires fsspec==2023.6.0, but you have fsspec 2024.3.1 which is incompatible.\u001b[0m\u001b[31m\n",
      "\u001b[0mSuccessfully installed fsspec-2023.6.0 s3fs-2024.3.1\n"
     ]
    }
   ],
   "source": [
    "!pip install xgboost\n",
    "!pip install s3fs"
   ]
  },
  {
   "cell_type": "code",
   "execution_count": 3,
   "id": "d116441e-8b6e-490a-a974-714fbab1ee92",
   "metadata": {},
   "outputs": [],
   "source": [
    "import matplotlib.pyplot as plt\n",
    "import s3fs\n",
    "import pandas as pd\n",
    "import numpy as np\n",
    "from itertools import product\n",
    "from datetime import datetime, timedelta\n",
    "import matplotlib.pyplot as plt\n",
    "import xgboost as xgb\n",
    "from sklearn.model_selection import train_test_split,train_test_split, GridSearchCV\n",
    "from sklearn.metrics import accuracy_score,mean_squared_error, mean_absolute_error, r2_score,confusion_matrix\n",
    "from sklearn.preprocessing import MinMaxScaler"
   ]
  },
  {
   "cell_type": "code",
   "execution_count": 4,
   "id": "9b473685-0b34-4540-81cd-fe790b2cdbff",
   "metadata": {},
   "outputs": [],
   "source": [
    "def train_xgboost_model(X_train, X_test, y_train, y_test):\n",
    "    # Split the data into training and testing sets\n",
    "\n",
    "    # Define the XGBoost model\n",
    "    model = xgb.XGBRegressor(objective=\"reg:squarederror\")\n",
    "\n",
    "    # Define the hyperparameter grid for grid search\n",
    "    param_grid = {\n",
    "        'learning_rate': [0.01, 0.1, 0.2],\n",
    "        'max_depth': [3, 4, 5],\n",
    "        'n_estimators': [50, 100, 200],\n",
    "    }\n",
    "\n",
    "    # Use GridSearchCV to find the best hyperparameters\n",
    "    grid_search = GridSearchCV(model, param_grid, scoring='neg_mean_squared_error', cv=3)\n",
    "    grid_search.fit(X_train, y_train)\n",
    "\n",
    "    # Get the best model from the grid search\n",
    "    best_model = grid_search.best_estimator_\n",
    "\n",
    "    # Make predictions on the test set using the best model\n",
    "    predictions = best_model.predict(X_test)\n",
    "\n",
    "    # Calculate evaluation metrics\n",
    "    mse = mean_squared_error(y_test, predictions)\n",
    "    mae = mean_absolute_error(y_test, predictions)\n",
    "    r2 = r2_score(y_test, predictions)\n",
    "    std_dev = np.std(y_test - predictions)  # Standard deviation of residuals\n",
    "\n",
    "    return {\n",
    "        \"y_test\": y_test,\n",
    "        \"predictions\": predictions,\n",
    "        \"mse\": mse,\n",
    "        \"mae\": mae,\n",
    "        \"r2\": r2,\n",
    "        \"std_dev\": std_dev,\n",
    "        \"best_params\": grid_search.best_params_\n",
    "    }"
   ]
  },
  {
   "cell_type": "code",
   "execution_count": null,
   "id": "482ff065-2dc7-41bd-a785-d5b9da815dbe",
   "metadata": {},
   "outputs": [
    {
     "name": "stdout",
     "output_type": "stream",
     "text": [
      "Current time: 2024-05-10 21:04:34.802981\n"
     ]
    }
   ],
   "source": [
    "LabName = 'Crt'\n",
    "split_index = 2179\n",
    "AllData = pd.read_csv(f\"s3://sagemaker-studio-905418013525-nvxe84zgs6/Labrado/rl8/rl8_{LabName}.csv\")\n",
    "condition = AllData['chartyear'] <= split_index\n",
    "TrainData = AllData[condition]\n",
    "TestData = AllData[~condition]\n",
    "feature_cols = ['Bic', 'Bic_timedif', 'Crt', 'Crt_timedif', 'Hgb', 'Hgb_timedif', 'Plt', 'Plt_timedif', 'Pot', 'Pot_timedif', 'Sod', 'Sod_timedif', 'Ure', 'Ure_timedif', 'Wbc', 'Wbc_timedif']\n",
    "target_col = 'valuenum'\n",
    "X_train = TrainData[feature_cols]\n",
    "y_train = TrainData[target_col]\n",
    "X_test = TestData[feature_cols]\n",
    "y_test = TestData[target_col]\n",
    "print(\"Current time:\", datetime.now())\n",
    "model_results = train_xgboost_model(X_train, X_test, y_train, y_test)\n",
    "print(\"Current time:\", datetime.now())\n",
    "print(model_results)\n",
    "\n",
    "\n",
    "y_last = AllData[LabName].iloc[model_results['y_test'].index]\n",
    "y_test = model_results['y_test']\n",
    "y_pred = model_results['predictions']\n",
    "valid_pos = y_last.notna()\n",
    "\n",
    "\n",
    "mse_last = mean_squared_error(y_test[valid_pos], y_last[valid_pos])\n",
    "r2_last = r2_score(y_test[valid_pos], y_last[valid_pos])\n",
    "mse_pred = mean_squared_error(y_test[valid_pos], y_pred[valid_pos])\n",
    "r2_pred = r2_score(y_test[valid_pos], y_pred[valid_pos])\n",
    "print(LabName)\n",
    "print(\"nearest neighbour mse \",round(mse_last,3),\"and r2: \",round(r2_last,3))\n",
    "print(\"xgboost imputation mse \",round(mse_pred,3),\"and r2: \", round(r2_pred,3))\n",
    "\n",
    "\n",
    "\n",
    "normalranges = {\n",
    "  \"Crt\": (0.7, 1.3),\n",
    "  \"Plt\": (150,450),\n",
    "  \"Hgb\": (12, 18),\n",
    "  \"Wbc\": (4, 11),\n",
    "  \"Ure\": (8, 20),\n",
    "  \"Sod\": (136, 145),\n",
    "  \"Bic\": (23, 28),\n",
    "  \"Pot\": (3.5, 5),\n",
    "}\n",
    "\n",
    "bins = [-1,normalranges[LabName][0],normalranges[LabName][1],10000]\n",
    "# Define labels for the categories\n",
    "labels = ['Low', 'Medium', 'High']\n",
    "y_test_cat = pd.cut(y_test[valid_pos],bins=bins, labels=labels).astype(str)\n",
    "y_last_cat = pd.cut(y_last[valid_pos],bins=bins, labels=labels).astype(str)\n",
    "y_pred_cat = pd.cut(y_pred[valid_pos],bins=bins, labels=labels).astype(str)\n",
    "print(LabName)\n",
    "print(bins)\n",
    "print(\"nearest neighbour mse \",round(mse_last,3),\"and r2: \",round(r2_last,3))\n",
    "print(\"xgboost imputation mse \",round(mse_pred,3),\"and r2: \", round(r2_pred,3))\n",
    "cm_last = confusion_matrix(y_test_cat,y_last_cat,labels=labels), \n",
    "print(\"confusion matrix for nearest neighbor\")\n",
    "print(cm_last)\n",
    "cm_pred = confusion_matrix(y_test_cat,y_pred_cat,labels=labels)\n",
    "print(\"confusion matrix for xgboost\")\n",
    "print(cm_pred)"
   ]
  },
  {
   "cell_type": "code",
   "execution_count": 6,
   "id": "3309949a-7e81-4355-bcb2-93621ac52e40",
   "metadata": {},
   "outputs": [
    {
     "name": "stdout",
     "output_type": "stream",
     "text": [
      "Crt\n",
      "[-1, 0.7, 1.3, 10000]\n",
      "nearest neighbour mse  0.213 and r2:  0.918\n",
      "xgboost imputation mse  0.151 and r2:  0.942\n",
      "confusion matrix for nearest neighbor\n",
      "(array([[ 87894,  13386,     75],\n",
      "       [ 13187, 121787,   8296],\n",
      "       [    66,   7402, 106249]]),)\n",
      "confusion matrix for xgboost\n",
      "[[ 73341  27944     70]\n",
      " [  5141 126140  11989]\n",
      " [    33   5214 108470]]\n"
     ]
    }
   ],
   "source": [
    "print(LabName)\n",
    "print(bins)\n",
    "print(\"nearest neighbour mse \",round(mse_last,3),\"and r2: \",round(r2_last,3))\n",
    "print(\"xgboost imputation mse \",round(mse_pred,3),\"and r2: \", round(r2_pred,3))\n",
    "cm_last = confusion_matrix(y_test_cat,y_last_cat,labels=labels), \n",
    "print(\"confusion matrix for nearest neighbor\")\n",
    "print(cm_last)\n",
    "cm_pred = confusion_matrix(y_test_cat,y_pred_cat,labels=labels)\n",
    "print(\"confusion matrix for xgboost\")\n",
    "print(cm_pred)"
   ]
  },
  {
   "cell_type": "code",
   "execution_count": null,
   "id": "5b62914b-23b1-4083-a105-cc455d8a8d50",
   "metadata": {},
   "outputs": [],
   "source": []
  }
 ],
 "metadata": {
  "kernelspec": {
   "display_name": "Python 3 (ipykernel)",
   "language": "python",
   "name": "python3"
  },
  "language_info": {
   "codemirror_mode": {
    "name": "ipython",
    "version": 3
   },
   "file_extension": ".py",
   "mimetype": "text/x-python",
   "name": "python",
   "nbconvert_exporter": "python",
   "pygments_lexer": "ipython3",
   "version": "3.10.14"
  }
 },
 "nbformat": 4,
 "nbformat_minor": 5
}
