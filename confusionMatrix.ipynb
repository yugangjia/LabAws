{
 "cells": [
  {
   "cell_type": "code",
   "execution_count": 34,
   "metadata": {},
   "outputs": [],
   "source": [
    "import matplotlib.pyplot as plt\n",
    "import s3fs\n",
    "import pandas as pd\n",
    "import numpy as np\n",
    "from itertools import product\n",
    "from datetime import datetime, timedelta\n",
    "import matplotlib.pyplot as plt\n",
    "import xgboost as xgb\n",
    "from sklearn.model_selection import train_test_split,train_test_split, GridSearchCV\n",
    "from sklearn.metrics import accuracy_score,mean_squared_error, mean_absolute_error, r2_score,confusion_matrix\n",
    "from sklearn.preprocessing import MinMaxScaler\n",
    "y_pred = np.loadtxt('y_pred.csv', delimiter=',')\n",
    "y_test = np.loadtxt('y_test.csv', delimiter=',')\n",
    "y_last = np.loadtxt('y_last.csv', delimiter=',')"
   ]
  },
  {
   "cell_type": "code",
   "execution_count": 37,
   "metadata": {},
   "outputs": [
    {
     "data": {
      "text/plain": [
       "(383682,)"
      ]
     },
     "execution_count": 37,
     "metadata": {},
     "output_type": "execute_result"
    }
   ],
   "source": [
    "y_last.shape"
   ]
  },
  {
   "cell_type": "code",
   "execution_count": 25,
   "metadata": {},
   "outputs": [],
   "source": [
    "import numpy as np\n",
    "from sklearn.metrics import confusion_matrix\n",
    "\n",
    "def mse_r2_confusion_matrix(ground_truth, predictions, normal_range):\n",
    "    \"\"\"\n",
    "    Calculate the Mean Squared Error (MSE), R-squared value (R2), and confusion matrix for two arrays, ignoring NaN values.\n",
    "    The confusion matrix will be based on three categories: lower, normal, and higher.\n",
    "\n",
    "    Parameters:\n",
    "    ground_truth (numpy.ndarray): Ground truth array.\n",
    "    predictions (numpy.ndarray): Predicted values array.\n",
    "    normal_range (tuple): Normal range as a tuple (min, max).\n",
    "\n",
    "    Returns:\n",
    "    tuple: Three elements:\n",
    "        - float: MSE value.\n",
    "        - float: R-squared value.\n",
    "        - numpy.ndarray: Confusion matrix.\n",
    "    \"\"\"\n",
    "    # Ensure input arrays are numpy arrays\n",
    "    ground_truth = np.asarray(ground_truth)\n",
    "    predictions = np.asarray(predictions)\n",
    "\n",
    "    if ground_truth.shape != predictions.shape:\n",
    "        raise ValueError(\"The shapes of the ground truth and prediction arrays must be the same.\")\n",
    "\n",
    "    # Handle NaN values by masking\n",
    "    mask = np.isnan(ground_truth) | np.isnan(predictions)\n",
    "    gt = ground_truth[~mask]\n",
    "    pred = predictions[~mask]\n",
    "\n",
    "    # Calculate MSE\n",
    "    mse = np.mean((gt - pred) ** 2)\n",
    "\n",
    "    # Calculate R-squared\n",
    "    mean_gt = np.mean(gt)\n",
    "    tss = np.sum((gt - mean_gt) ** 2)\n",
    "    rss = np.sum((gt - pred) ** 2)\n",
    "    r2 = 1 - rss / tss\n",
    "\n",
    "    # Normal range handling\n",
    "    normal_min, normal_max = normal_range\n",
    "    gt_category = np.where(gt < normal_min, 0, np.where(gt > normal_max, 2, 1))\n",
    "    pred_category = np.where(pred < normal_min, 0, np.where(pred > normal_max, 2, 1))\n",
    "\n",
    "    # Calculate confusion matrix\n",
    "    cm = confusion_matrix(gt_category, pred_category, labels=[0, 1, 2])\n",
    "\n",
    "    return mse, r2, cm"
   ]
  },
  {
   "cell_type": "code",
   "execution_count": 26,
   "metadata": {},
   "outputs": [
    {
     "data": {
      "text/plain": [
       "0         4.190452\n",
       "1         4.536629\n",
       "2         4.404006\n",
       "3         4.288874\n",
       "4         3.513833\n",
       "            ...   \n",
       "383677    4.426610\n",
       "383678    3.513833\n",
       "383679    3.938117\n",
       "383680    4.271298\n",
       "383681    4.011180\n",
       "Name: 0, Length: 383682, dtype: float64"
      ]
     },
     "execution_count": 26,
     "metadata": {},
     "output_type": "execute_result"
    }
   ],
   "source": [
    "y_pred.iloc[:,0]"
   ]
  },
  {
   "cell_type": "code",
   "execution_count": 39,
   "metadata": {},
   "outputs": [
    {
     "name": "stdout",
     "output_type": "stream",
     "text": [
      "Overall MAE MSE: 0.309\n",
      "Overall MAE R-squared: -0.065\n",
      "Overall MAE Confusion matrix:\n",
      " [[     0  26633    127]\n",
      " [     1 287554   2612]\n",
      " [     0  16095    718]]\n",
      "Test with the last value 284042\n",
      "last value prediction MSE per column: 0.227\n",
      "last value prediction R-squared per column: 0.166\n",
      "last value prediction Confusion matrix:\n",
      " [[  7330  13650    141]\n",
      " [ 15098 206947   8527]\n",
      " [   138   6883   5360]]\n",
      "MAE for those with last value MSE : 0.3\n",
      "MAE for those with last value R-squared: -0.1\n",
      "MAE for those with last value Confusion matrix:\n",
      " [[     0  20994    127]\n",
      " [     1 227959   2612]\n",
      " [     0  11663    718]]\n"
     ]
    }
   ],
   "source": [
    "ItemID = 0\n",
    "normal_ranges = [(3.5,5),(136,145),(98,106),(37,50),(0.7,1.3),(23,28),(7,13),(8,20),(0,200),(150,450)]\n",
    "\n",
    "mse, r2, cm = mse_r2_confusion_matrix(y_test, y_pred[:,0], normal_ranges[ItemID])\n",
    "\n",
    "print(\"Overall MAE MSE:\", round(mse,3))\n",
    "print(\"Overall MAE R-squared:\", round(r2,3))\n",
    "print(\"Overall MAE Confusion matrix:\\n\", cm)\n",
    "\n",
    "\n",
    "valid_pos = ~np.isnan(y_last)\n",
    "print('Test with the last value',len(y_last[valid_pos]))\n",
    "mse, r2, cm = mse_r2_confusion_matrix(y_test, y_last, normal_ranges[ItemID])\n",
    "print(\"last value prediction MSE per column:\", round(mse,3))\n",
    "print(\"last value prediction R-squared per column:\", round(r2,3))\n",
    "print(\"last value prediction Confusion matrix:\\n\", cm)\n",
    "\n",
    "mse, r2, cm = mse_r2_confusion_matrix(y_test[valid_pos], y_pred[:,0][valid_pos], normal_ranges[ItemID])\n",
    "print(\"MAE for those with last value MSE :\", round(mse,3))\n",
    "print(\"MAE for those with last value R-squared:\", round(r2,3))\n",
    "print(\"MAE for those with last value Confusion matrix:\\n\", cm)"
   ]
  },
  {
   "cell_type": "code",
   "execution_count": 6,
   "metadata": {},
   "outputs": [
    {
     "data": {
      "text/plain": [
       "(9314,)"
      ]
     },
     "execution_count": 6,
     "metadata": {},
     "output_type": "execute_result"
    }
   ],
   "source": [
    "valid_pos.shape"
   ]
  },
  {
   "cell_type": "code",
   "execution_count": 8,
   "metadata": {},
   "outputs": [
    {
     "data": {
      "text/plain": [
       "(10000,)"
      ]
     },
     "execution_count": 8,
     "metadata": {},
     "output_type": "execute_result"
    }
   ],
   "source": [
    "currImpute.shape"
   ]
  },
  {
   "cell_type": "code",
   "execution_count": 5,
   "metadata": {},
   "outputs": [
    {
     "ename": "IndexingError",
     "evalue": "Unalignable boolean Series provided as indexer (index of the boolean Series and of the indexed object do not match).",
     "output_type": "error",
     "traceback": [
      "\u001b[0;31m---------------------------------------------------------------------------\u001b[0m",
      "\u001b[0;31mIndexingError\u001b[0m                             Traceback (most recent call last)",
      "\u001b[1;32m/home/sagemaker-user/LabAws/confusionMatrix.ipynb Cell 6\u001b[0m line \u001b[0;36m1\n\u001b[0;32m----> <a href='vscode-notebook-cell://s1lncczxnxn9o8q.studio.us-east-2.sagemaker.aws/home/sagemaker-user/LabAws/confusionMatrix.ipynb#W5sdnNjb2RlLXJlbW90ZQ%3D%3D?line=0'>1</a>\u001b[0m mse_pred \u001b[39m=\u001b[39m mean_squared_error(currTest[valid_pos], currImpute[valid_pos])\n\u001b[1;32m      <a href='vscode-notebook-cell://s1lncczxnxn9o8q.studio.us-east-2.sagemaker.aws/home/sagemaker-user/LabAws/confusionMatrix.ipynb#W5sdnNjb2RlLXJlbW90ZQ%3D%3D?line=1'>2</a>\u001b[0m r2_pred \u001b[39m=\u001b[39m r2_score(currTest[valid_pos], currImpute[valid_pos])\n\u001b[1;32m      <a href='vscode-notebook-cell://s1lncczxnxn9o8q.studio.us-east-2.sagemaker.aws/home/sagemaker-user/LabAws/confusionMatrix.ipynb#W5sdnNjb2RlLXJlbW90ZQ%3D%3D?line=2'>3</a>\u001b[0m itemid\u001b[39m=\u001b[39m\u001b[39m\"\u001b[39m\u001b[39m50971\u001b[39m\u001b[39m\"\u001b[39m\n",
      "File \u001b[0;32m/opt/conda/lib/python3.10/site-packages/pandas/core/series.py:1068\u001b[0m, in \u001b[0;36mSeries.__getitem__\u001b[0;34m(self, key)\u001b[0m\n\u001b[1;32m   1065\u001b[0m     \u001b[39mreturn\u001b[39;00m \u001b[39mself\u001b[39m\u001b[39m.\u001b[39m_getitem_slice(key)\n\u001b[1;32m   1067\u001b[0m \u001b[39mif\u001b[39;00m com\u001b[39m.\u001b[39mis_bool_indexer(key):\n\u001b[0;32m-> 1068\u001b[0m     key \u001b[39m=\u001b[39m check_bool_indexer(\u001b[39mself\u001b[39;49m\u001b[39m.\u001b[39;49mindex, key)\n\u001b[1;32m   1069\u001b[0m     key \u001b[39m=\u001b[39m np\u001b[39m.\u001b[39masarray(key, dtype\u001b[39m=\u001b[39m\u001b[39mbool\u001b[39m)\n\u001b[1;32m   1070\u001b[0m     \u001b[39mreturn\u001b[39;00m \u001b[39mself\u001b[39m\u001b[39m.\u001b[39m_get_rows_with_mask(key)\n",
      "File \u001b[0;32m/opt/conda/lib/python3.10/site-packages/pandas/core/indexing.py:2575\u001b[0m, in \u001b[0;36mcheck_bool_indexer\u001b[0;34m(index, key)\u001b[0m\n\u001b[1;32m   2573\u001b[0m indexer \u001b[39m=\u001b[39m result\u001b[39m.\u001b[39mindex\u001b[39m.\u001b[39mget_indexer_for(index)\n\u001b[1;32m   2574\u001b[0m \u001b[39mif\u001b[39;00m \u001b[39m-\u001b[39m\u001b[39m1\u001b[39m \u001b[39min\u001b[39;00m indexer:\n\u001b[0;32m-> 2575\u001b[0m     \u001b[39mraise\u001b[39;00m IndexingError(\n\u001b[1;32m   2576\u001b[0m         \u001b[39m\"\u001b[39m\u001b[39mUnalignable boolean Series provided as \u001b[39m\u001b[39m\"\u001b[39m\n\u001b[1;32m   2577\u001b[0m         \u001b[39m\"\u001b[39m\u001b[39mindexer (index of the boolean Series and of \u001b[39m\u001b[39m\"\u001b[39m\n\u001b[1;32m   2578\u001b[0m         \u001b[39m\"\u001b[39m\u001b[39mthe indexed object do not match).\u001b[39m\u001b[39m\"\u001b[39m\n\u001b[1;32m   2579\u001b[0m     )\n\u001b[1;32m   2581\u001b[0m result \u001b[39m=\u001b[39m result\u001b[39m.\u001b[39mtake(indexer)\n\u001b[1;32m   2583\u001b[0m \u001b[39m# fall through for boolean\u001b[39;00m\n",
      "\u001b[0;31mIndexingError\u001b[0m: Unalignable boolean Series provided as indexer (index of the boolean Series and of the indexed object do not match)."
     ]
    }
   ],
   "source": [
    "mse_pred = mean_squared_error(currTest[valid_pos], currImpute[valid_pos])\n",
    "r2_pred = r2_score(currTest[valid_pos], currImpute[valid_pos])\n",
    "itemid=\"50971\"\n",
    "normalranges = {\n",
    "  \"Crt\": (0.7, 1.3),\n",
    "  \"Plt\": (150,450),\n",
    "  \"Hgb\": (12, 18),\n",
    "  \"Wbc\": (4, 11),\n",
    "  \"Ure\": (8, 20),\n",
    "  \"50983\": (136, 145),\n",
    "  \"Bic\": (23, 28),\n",
    "  \"50971\": (3.5, 5),\n",
    "  \"50902\": (98, 106),\n",
    "  \"51221\": (37,50),\n",
    "}\n",
    "\n",
    "bins = [-1,normalranges[f\"{itemid}\"][0],normalranges[f\"{itemid}\"][1],10000]\n",
    "# Define labels for the categories\n",
    "labels = ['Low', 'Medium', 'High']\n",
    "y_test_cat = pd.cut(currTest[valid_pos],bins=bins, labels=labels).astype(str)\n",
    "y_pred_cat = pd.cut(currImpute[valid_pos],bins=bins, labels=labels).astype(str)\n",
    "print(itemid)\n",
    "print(\"normal range\", bins)\n",
    "print(\"xgboost imputation mse \",round(mse_pred,3),\"and r2: \", round(r2_pred,3))\n",
    "cm_pred = confusion_matrix(y_test_cat,y_pred_cat,labels=labels)\n",
    "print(\"confusion matrix for xgboost\")\n",
    "print(cm_pred)"
   ]
  },
  {
   "cell_type": "code",
   "execution_count": 19,
   "metadata": {},
   "outputs": [
    {
     "data": {
      "text/plain": [
       "0       20.567667\n",
       "1       19.296064\n",
       "2       18.000000\n",
       "3       13.000000\n",
       "5       12.000000\n",
       "          ...    \n",
       "9995    32.000000\n",
       "9996    15.000000\n",
       "9997    11.000000\n",
       "9998     7.000000\n",
       "9999     6.000000\n",
       "Name: 50971, Length: 8673, dtype: float64"
      ]
     },
     "execution_count": 19,
     "metadata": {},
     "output_type": "execute_result"
    }
   ],
   "source": [
    "currImpute[valid_pos]"
   ]
  },
  {
   "cell_type": "code",
   "execution_count": 20,
   "metadata": {},
   "outputs": [
    {
     "data": {
      "text/plain": [
       "0       19.0\n",
       "1       22.0\n",
       "2       18.0\n",
       "3       13.0\n",
       "5       12.0\n",
       "        ... \n",
       "9995    32.0\n",
       "9996    15.0\n",
       "9997    11.0\n",
       "9998     7.0\n",
       "9999     6.0\n",
       "Name: 50971, Length: 8673, dtype: float64"
      ]
     },
     "execution_count": 20,
     "metadata": {},
     "output_type": "execute_result"
    }
   ],
   "source": [
    "currTest[valid_pos]"
   ]
  }
 ],
 "metadata": {
  "kernelspec": {
   "display_name": "base",
   "language": "python",
   "name": "python3"
  },
  "language_info": {
   "codemirror_mode": {
    "name": "ipython",
    "version": 3
   },
   "file_extension": ".py",
   "mimetype": "text/x-python",
   "name": "python",
   "nbconvert_exporter": "python",
   "pygments_lexer": "ipython3",
   "version": "3.10.14"
  }
 },
 "nbformat": 4,
 "nbformat_minor": 2
}
