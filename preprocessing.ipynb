{
 "cells": [
  {
   "cell_type": "code",
   "execution_count": 7,
   "metadata": {},
   "outputs": [
    {
     "name": "stdout",
     "output_type": "stream",
     "text": [
      "split year is 2178\n"
     ]
    }
   ],
   "source": [
    "\n",
    "import torch\n",
    "import pandas as pd\n",
    "import numpy as np\n",
    "import boto3\n",
    "import numpy as np\n",
    "import pandas as pd\n",
    "from utils import get_args_parser\n",
    "from remasker_impute import ReMasker\n",
    "import numpy as np\n",
    "import pandas as pd\n",
    "from sklearn.model_selection import train_test_split\n",
    "from sklearn.metrics import mean_squared_error, mean_absolute_error, r2_score\n",
    "from math import sqrt\n",
    "\n",
    "s3 = boto3.client('s3')\n",
    "bucket_name = 'sagemaker-studio-905418013525-nvxe84zgs6'\n",
    "file_path = 'Labrado/alllabs1000adm/Labitemlist.csv'\n",
    "obj = s3.get_object(Bucket=bucket_name, Key=file_path)\n",
    "Labitemlist = pd.read_csv(obj['Body'], header=None,names=['labitem', 'cnt'], dtype=int)\n",
    "\n",
    "file_path = 'Labrado/alllabs1000adm/unique_adm_year_day.csv'\n",
    "obj = s3.get_object(Bucket=bucket_name, Key=file_path)\n",
    "unique_adm_year_day = pd.read_csv(obj['Body'], header=None,names=['hadm_id', 'chartyear', 'day','rowinx'], dtype=int)\n",
    "\n",
    "unique_hadm_by_year = unique_adm_year_day.groupby('chartyear')['hadm_id'].nunique()\n",
    "cumulative_sum = unique_hadm_by_year.cumsum()\n",
    "total_sum = cumulative_sum.iloc[-1]\n",
    "split_index = cumulative_sum[cumulative_sum >= 0.8 * total_sum].index[0]\n",
    "print(\"split year is\",split_index)\n",
    "Row_Train = unique_adm_year_day['chartyear']<=split_index\n",
    "Train_inx = Row_Train[Row_Train].index\n",
    "Row_Test = unique_adm_year_day['chartyear']>split_index\n",
    "Test_inx = Row_Test[Row_Test].index"
   ]
  },
  {
   "cell_type": "code",
   "execution_count": 8,
   "metadata": {},
   "outputs": [],
   "source": [
    "\n",
    "file_path = 'Labrado/alllabs1000adm/npval.csv'\n",
    "obj = s3.get_object(Bucket=bucket_name, Key=file_path)\n",
    "npval = pd.read_csv(obj['Body'], header=None, dtype=float)\n",
    "\n",
    "\n",
    "file_path = 'Labrado/alllabs1000adm/npval_last.csv'\n",
    "obj = s3.get_object(Bucket=bucket_name, Key=file_path)\n",
    "npval_last = pd.read_csv(obj['Body'], header=None, dtype=float)"
   ]
  },
  {
   "cell_type": "code",
   "execution_count": 18,
   "metadata": {},
   "outputs": [
    {
     "ename": "KeyboardInterrupt",
     "evalue": "",
     "output_type": "error",
     "traceback": [
      "\u001b[0;31m---------------------------------------------------------------------------\u001b[0m",
      "\u001b[0;31mKeyboardInterrupt\u001b[0m                         Traceback (most recent call last)",
      "\u001b[1;32m/home/sagemaker-user/LabAws/preprocessing.ipynb Cell 3\u001b[0m line \u001b[0;36m3\n\u001b[1;32m      <a href='vscode-notebook-cell://s1lncczxnxn9o8q.studio.us-east-2.sagemaker.aws/home/sagemaker-user/LabAws/preprocessing.ipynb#X10sdnNjb2RlLXJlbW90ZQ%3D%3D?line=0'>1</a>\u001b[0m file_path \u001b[39m=\u001b[39m \u001b[39m'\u001b[39m\u001b[39mLabrado/alllabs1000adm/nptime.csv\u001b[39m\u001b[39m'\u001b[39m\n\u001b[1;32m      <a href='vscode-notebook-cell://s1lncczxnxn9o8q.studio.us-east-2.sagemaker.aws/home/sagemaker-user/LabAws/preprocessing.ipynb#X10sdnNjb2RlLXJlbW90ZQ%3D%3D?line=1'>2</a>\u001b[0m obj \u001b[39m=\u001b[39m s3\u001b[39m.\u001b[39mget_object(Bucket\u001b[39m=\u001b[39mbucket_name, Key\u001b[39m=\u001b[39mfile_path)\n\u001b[0;32m----> <a href='vscode-notebook-cell://s1lncczxnxn9o8q.studio.us-east-2.sagemaker.aws/home/sagemaker-user/LabAws/preprocessing.ipynb#X10sdnNjb2RlLXJlbW90ZQ%3D%3D?line=2'>3</a>\u001b[0m nptime \u001b[39m=\u001b[39m pd\u001b[39m.\u001b[39;49mread_csv(obj[\u001b[39m'\u001b[39;49m\u001b[39mBody\u001b[39;49m\u001b[39m'\u001b[39;49m], header\u001b[39m=\u001b[39;49m\u001b[39mNone\u001b[39;49;00m, dtype\u001b[39m=\u001b[39;49m\u001b[39mfloat\u001b[39;49m)\n\u001b[1;32m      <a href='vscode-notebook-cell://s1lncczxnxn9o8q.studio.us-east-2.sagemaker.aws/home/sagemaker-user/LabAws/preprocessing.ipynb#X10sdnNjb2RlLXJlbW90ZQ%3D%3D?line=4'>5</a>\u001b[0m file_path \u001b[39m=\u001b[39m \u001b[39m'\u001b[39m\u001b[39mLabrado/alllabs1000adm/nptime_last.csv\u001b[39m\u001b[39m'\u001b[39m\n\u001b[1;32m      <a href='vscode-notebook-cell://s1lncczxnxn9o8q.studio.us-east-2.sagemaker.aws/home/sagemaker-user/LabAws/preprocessing.ipynb#X10sdnNjb2RlLXJlbW90ZQ%3D%3D?line=5'>6</a>\u001b[0m obj \u001b[39m=\u001b[39m s3\u001b[39m.\u001b[39mget_object(Bucket\u001b[39m=\u001b[39mbucket_name, Key\u001b[39m=\u001b[39mfile_path)\n",
      "File \u001b[0;32m/opt/conda/lib/python3.10/site-packages/pandas/io/parsers/readers.py:948\u001b[0m, in \u001b[0;36mread_csv\u001b[0;34m(filepath_or_buffer, sep, delimiter, header, names, index_col, usecols, dtype, engine, converters, true_values, false_values, skipinitialspace, skiprows, skipfooter, nrows, na_values, keep_default_na, na_filter, verbose, skip_blank_lines, parse_dates, infer_datetime_format, keep_date_col, date_parser, date_format, dayfirst, cache_dates, iterator, chunksize, compression, thousands, decimal, lineterminator, quotechar, quoting, doublequote, escapechar, comment, encoding, encoding_errors, dialect, on_bad_lines, delim_whitespace, low_memory, memory_map, float_precision, storage_options, dtype_backend)\u001b[0m\n\u001b[1;32m    935\u001b[0m kwds_defaults \u001b[39m=\u001b[39m _refine_defaults_read(\n\u001b[1;32m    936\u001b[0m     dialect,\n\u001b[1;32m    937\u001b[0m     delimiter,\n\u001b[0;32m   (...)\u001b[0m\n\u001b[1;32m    944\u001b[0m     dtype_backend\u001b[39m=\u001b[39mdtype_backend,\n\u001b[1;32m    945\u001b[0m )\n\u001b[1;32m    946\u001b[0m kwds\u001b[39m.\u001b[39mupdate(kwds_defaults)\n\u001b[0;32m--> 948\u001b[0m \u001b[39mreturn\u001b[39;00m _read(filepath_or_buffer, kwds)\n",
      "File \u001b[0;32m/opt/conda/lib/python3.10/site-packages/pandas/io/parsers/readers.py:617\u001b[0m, in \u001b[0;36m_read\u001b[0;34m(filepath_or_buffer, kwds)\u001b[0m\n\u001b[1;32m    614\u001b[0m     \u001b[39mreturn\u001b[39;00m parser\n\u001b[1;32m    616\u001b[0m \u001b[39mwith\u001b[39;00m parser:\n\u001b[0;32m--> 617\u001b[0m     \u001b[39mreturn\u001b[39;00m parser\u001b[39m.\u001b[39;49mread(nrows)\n",
      "File \u001b[0;32m/opt/conda/lib/python3.10/site-packages/pandas/io/parsers/readers.py:1748\u001b[0m, in \u001b[0;36mTextFileReader.read\u001b[0;34m(self, nrows)\u001b[0m\n\u001b[1;32m   1741\u001b[0m nrows \u001b[39m=\u001b[39m validate_integer(\u001b[39m\"\u001b[39m\u001b[39mnrows\u001b[39m\u001b[39m\"\u001b[39m, nrows)\n\u001b[1;32m   1742\u001b[0m \u001b[39mtry\u001b[39;00m:\n\u001b[1;32m   1743\u001b[0m     \u001b[39m# error: \"ParserBase\" has no attribute \"read\"\u001b[39;00m\n\u001b[1;32m   1744\u001b[0m     (\n\u001b[1;32m   1745\u001b[0m         index,\n\u001b[1;32m   1746\u001b[0m         columns,\n\u001b[1;32m   1747\u001b[0m         col_dict,\n\u001b[0;32m-> 1748\u001b[0m     ) \u001b[39m=\u001b[39m \u001b[39mself\u001b[39;49m\u001b[39m.\u001b[39;49m_engine\u001b[39m.\u001b[39;49mread(  \u001b[39m# type: ignore[attr-defined]\u001b[39;49;00m\n\u001b[1;32m   1749\u001b[0m         nrows\n\u001b[1;32m   1750\u001b[0m     )\n\u001b[1;32m   1751\u001b[0m \u001b[39mexcept\u001b[39;00m \u001b[39mException\u001b[39;00m:\n\u001b[1;32m   1752\u001b[0m     \u001b[39mself\u001b[39m\u001b[39m.\u001b[39mclose()\n",
      "File \u001b[0;32m/opt/conda/lib/python3.10/site-packages/pandas/io/parsers/c_parser_wrapper.py:234\u001b[0m, in \u001b[0;36mCParserWrapper.read\u001b[0;34m(self, nrows)\u001b[0m\n\u001b[1;32m    232\u001b[0m \u001b[39mtry\u001b[39;00m:\n\u001b[1;32m    233\u001b[0m     \u001b[39mif\u001b[39;00m \u001b[39mself\u001b[39m\u001b[39m.\u001b[39mlow_memory:\n\u001b[0;32m--> 234\u001b[0m         chunks \u001b[39m=\u001b[39m \u001b[39mself\u001b[39;49m\u001b[39m.\u001b[39;49m_reader\u001b[39m.\u001b[39;49mread_low_memory(nrows)\n\u001b[1;32m    235\u001b[0m         \u001b[39m# destructive to chunks\u001b[39;00m\n\u001b[1;32m    236\u001b[0m         data \u001b[39m=\u001b[39m _concatenate_chunks(chunks)\n",
      "File \u001b[0;32mparsers.pyx:843\u001b[0m, in \u001b[0;36mpandas._libs.parsers.TextReader.read_low_memory\u001b[0;34m()\u001b[0m\n",
      "File \u001b[0;32mparsers.pyx:904\u001b[0m, in \u001b[0;36mpandas._libs.parsers.TextReader._read_rows\u001b[0;34m()\u001b[0m\n",
      "File \u001b[0;32mparsers.pyx:879\u001b[0m, in \u001b[0;36mpandas._libs.parsers.TextReader._tokenize_rows\u001b[0;34m()\u001b[0m\n",
      "File \u001b[0;32mparsers.pyx:890\u001b[0m, in \u001b[0;36mpandas._libs.parsers.TextReader._check_tokenize_status\u001b[0;34m()\u001b[0m\n",
      "File \u001b[0;32mparsers.pyx:2050\u001b[0m, in \u001b[0;36mpandas._libs.parsers.raise_parser_error\u001b[0;34m()\u001b[0m\n",
      "File \u001b[0;32m/opt/conda/lib/python3.10/site-packages/botocore/response.py:99\u001b[0m, in \u001b[0;36mStreamingBody.read\u001b[0;34m(self, amt)\u001b[0m\n\u001b[1;32m     94\u001b[0m \u001b[39m\u001b[39m\u001b[39m\"\"\"Read at most amt bytes from the stream.\u001b[39;00m\n\u001b[1;32m     95\u001b[0m \n\u001b[1;32m     96\u001b[0m \u001b[39mIf the amt argument is omitted, read all data.\u001b[39;00m\n\u001b[1;32m     97\u001b[0m \u001b[39m\"\"\"\u001b[39;00m\n\u001b[1;32m     98\u001b[0m \u001b[39mtry\u001b[39;00m:\n\u001b[0;32m---> 99\u001b[0m     chunk \u001b[39m=\u001b[39m \u001b[39mself\u001b[39;49m\u001b[39m.\u001b[39;49m_raw_stream\u001b[39m.\u001b[39;49mread(amt)\n\u001b[1;32m    100\u001b[0m \u001b[39mexcept\u001b[39;00m URLLib3ReadTimeoutError \u001b[39mas\u001b[39;00m e:\n\u001b[1;32m    101\u001b[0m     \u001b[39m# TODO: the url will be None as urllib3 isn't setting it yet\u001b[39;00m\n\u001b[1;32m    102\u001b[0m     \u001b[39mraise\u001b[39;00m ReadTimeoutError(endpoint_url\u001b[39m=\u001b[39me\u001b[39m.\u001b[39murl, error\u001b[39m=\u001b[39me)\n",
      "File \u001b[0;32m/opt/conda/lib/python3.10/site-packages/urllib3/response.py:535\u001b[0m, in \u001b[0;36mHTTPResponse.read\u001b[0;34m(self, amt, decode_content, cache_content)\u001b[0m\n\u001b[1;32m    531\u001b[0m     \u001b[39melse\u001b[39;00m:\n\u001b[1;32m    532\u001b[0m         \u001b[39m# StringIO doesn't like amt=None\u001b[39;00m\n\u001b[1;32m    533\u001b[0m         \u001b[39mreturn\u001b[39;00m \u001b[39mself\u001b[39m\u001b[39m.\u001b[39m_fp\u001b[39m.\u001b[39mread(amt) \u001b[39mif\u001b[39;00m amt \u001b[39mis\u001b[39;00m \u001b[39mnot\u001b[39;00m \u001b[39mNone\u001b[39;00m \u001b[39melse\u001b[39;00m \u001b[39mself\u001b[39m\u001b[39m.\u001b[39m_fp\u001b[39m.\u001b[39mread()\n\u001b[0;32m--> 535\u001b[0m \u001b[39mdef\u001b[39;00m \u001b[39mread\u001b[39m(\u001b[39mself\u001b[39m, amt\u001b[39m=\u001b[39m\u001b[39mNone\u001b[39;00m, decode_content\u001b[39m=\u001b[39m\u001b[39mNone\u001b[39;00m, cache_content\u001b[39m=\u001b[39m\u001b[39mFalse\u001b[39;00m):\n\u001b[1;32m    536\u001b[0m \u001b[39m    \u001b[39m\u001b[39m\"\"\"\u001b[39;00m\n\u001b[1;32m    537\u001b[0m \u001b[39m    Similar to :meth:`http.client.HTTPResponse.read`, but with two additional\u001b[39;00m\n\u001b[1;32m    538\u001b[0m \u001b[39m    parameters: ``decode_content`` and ``cache_content``.\u001b[39;00m\n\u001b[0;32m   (...)\u001b[0m\n\u001b[1;32m    554\u001b[0m \u001b[39m        set.)\u001b[39;00m\n\u001b[1;32m    555\u001b[0m \u001b[39m    \"\"\"\u001b[39;00m\n\u001b[1;32m    556\u001b[0m     \u001b[39mself\u001b[39m\u001b[39m.\u001b[39m_init_decoder()\n",
      "\u001b[0;31mKeyboardInterrupt\u001b[0m: "
     ]
    }
   ],
   "source": [
    "file_path = 'Labrado/alllabs1000adm/nptime.csv'\n",
    "obj = s3.get_object(Bucket=bucket_name, Key=file_path)\n",
    "nptime = pd.read_csv(obj['Body'], header=None, dtype=float)\n",
    "\n",
    "file_path = 'Labrado/alllabs1000adm/nptime_last.csv'\n",
    "obj = s3.get_object(Bucket=bucket_name, Key=file_path)\n",
    "nptime_last = pd.read_csv(obj['Body'], header=None, dtype=float)"
   ]
  },
  {
   "cell_type": "code",
   "execution_count": 19,
   "metadata": {},
   "outputs": [
    {
     "data": {
      "text/plain": [
       "(1582939, 10)"
      ]
     },
     "execution_count": 19,
     "metadata": {},
     "output_type": "execute_result"
    }
   ],
   "source": [
    "X_train[:,0:LanCnt*2:2].shape"
   ]
  },
  {
   "cell_type": "code",
   "execution_count": 21,
   "metadata": {},
   "outputs": [],
   "source": [
    "LanCnt = 10\n",
    "X_train = np.full((len(Train_inx),LanCnt*4), np.nan)\n",
    "X_train[:,0:LanCnt*2:2] = npval.iloc[Train_inx,:LanCnt]\n",
    "X_train[:,1:LanCnt*2:2] = nptime.iloc[Train_inx,:LanCnt]\n",
    "X_train[:,LanCnt*2:LanCnt*4:2] = npval_last.iloc[Train_inx,:LanCnt]\n",
    "X_train[:,LanCnt*2+1:LanCnt*4:2] = nptime_last.iloc[Train_inx,:LanCnt]\n",
    "\n",
    "X_test = np.full((len(Test_inx),LanCnt*4), np.nan)\n",
    "X_test[:,0:LanCnt*2:2] = npval.iloc[Test_inx,:LanCnt]\n",
    "X_test[:,1:LanCnt*2:2] = nptime.iloc[Test_inx,:LanCnt]\n",
    "X_test[:,LanCnt*2:LanCnt*4:2] = npval_last.iloc[Test_inx,:LanCnt]\n",
    "X_test[:,LanCnt*2+1:LanCnt*4:2] = nptime_last.iloc[Test_inx,:LanCnt]\n"
   ]
  },
  {
   "cell_type": "code",
   "execution_count": 27,
   "metadata": {},
   "outputs": [
    {
     "data": {
      "text/plain": [
       "array([[  3.5,  18. , 137. ,  18. , 103. ,  18. ,  26.5,  18. ,   1.1,\n",
       "         18. ,  24. ,  18. ,  14. ,  18. ,  19. ,  18. , 169. ,  18. ,\n",
       "        183. ,  18. ,   nan,   nan,   nan,   nan,   nan,   nan,   nan,\n",
       "          nan,   nan,   nan,   nan,   nan,   nan,   nan,   nan,   nan,\n",
       "          nan,   nan,   nan,   nan],\n",
       "       [  3.7,  18. , 136. ,  18. , 100. ,  18. ,  28.1,  18. ,   1.2,\n",
       "         18. ,  28. ,  18. ,  12. ,  18. ,  17. ,  18. , 190. ,  18. ,\n",
       "        195. ,  18. ,   3.5,  42. , 137. ,  42. , 103. ,  42. ,  26.5,\n",
       "         42. ,   1.1,  42. ,  24. ,  42. ,  14. ,  42. ,  19. ,  42. ,\n",
       "        169. ,  42. , 183. ,  42. ],\n",
       "       [  3.9,  17. , 138. ,  17. , 102. ,  17. ,  24.4,  14. ,   0.9,\n",
       "         17. ,  26. ,  17. ,  14. ,  17. ,  14. ,  17. , 177. ,  17. ,\n",
       "        188. ,  14. ,   3.7,  42. , 136. ,  42. , 100. ,  42. ,  28.1,\n",
       "         42. ,   1.2,  42. ,  28. ,  42. ,  12. ,  42. ,  17. ,  42. ,\n",
       "        190. ,  42. , 195. ,  42. ],\n",
       "       [  5.2,  17. , 140. ,  17. , 104. ,  17. ,  32.1,  17. ,   1.1,\n",
       "         17. ,  25. ,  17. ,  16. ,  17. ,  28. ,  17. ,  88. ,  17. ,\n",
       "        196. ,  17. ,   nan,   nan,   nan,   nan,   nan,   nan,   nan,\n",
       "          nan,   nan,   nan,   nan,   nan,   nan,   nan,   nan,   nan,\n",
       "          nan,   nan,   nan,   nan],\n",
       "       [  4.8,  17. , 141. ,  17. , 106. ,  17. ,  30.3,  17. ,   2.3,\n",
       "         17. ,  24. ,  17. ,  11. ,  17. ,  26. ,  17. , 165. ,  17. ,\n",
       "        157. ,  17. ,   nan,   nan,   nan,   nan,   nan,   nan,   nan,\n",
       "          nan,   nan,   nan,   nan,   nan,   nan,   nan,   nan,   nan,\n",
       "          nan,   nan,   nan,   nan]])"
      ]
     },
     "execution_count": 27,
     "metadata": {},
     "output_type": "execute_result"
    }
   ],
   "source": [
    "X_train[:5,:]"
   ]
  },
  {
   "cell_type": "code",
   "execution_count": null,
   "metadata": {},
   "outputs": [],
   "source": [
    "np.savetxt('X_train.csv', X_train, delimiter=',')\n",
    "np.savetxt('X_test.csv', X_test, delimiter=',')"
   ]
  }
 ],
 "metadata": {
  "kernelspec": {
   "display_name": "base",
   "language": "python",
   "name": "python3"
  },
  "language_info": {
   "codemirror_mode": {
    "name": "ipython",
    "version": 3
   },
   "file_extension": ".py",
   "mimetype": "text/x-python",
   "name": "python",
   "nbconvert_exporter": "python",
   "pygments_lexer": "ipython3",
   "version": "3.10.14"
  }
 },
 "nbformat": 4,
 "nbformat_minor": 2
}
