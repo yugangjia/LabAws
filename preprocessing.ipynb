{
 "cells": [
  {
   "cell_type": "code",
   "execution_count": 1,
   "metadata": {},
   "outputs": [
    {
     "name": "stdout",
     "output_type": "stream",
     "text": [
      "split year is 2178\n"
     ]
    }
   ],
   "source": [
    "\n",
    "import torch\n",
    "import pandas as pd\n",
    "import numpy as np\n",
    "import boto3\n",
    "import numpy as np\n",
    "import pandas as pd\n",
    "from utils import get_args_parser\n",
    "from remasker_impute import ReMasker\n",
    "import numpy as np\n",
    "import pandas as pd\n",
    "from sklearn.model_selection import train_test_split\n",
    "from sklearn.metrics import mean_squared_error, mean_absolute_error, r2_score\n",
    "from math import sqrt\n",
    "\n",
    "s3 = boto3.client('s3')\n",
    "bucket_name = 'sagemaker-studio-905418013525-nvxe84zgs6'\n",
    "file_path = 'Labrado/alllabs1000adm/Labitemlist.csv'\n",
    "obj = s3.get_object(Bucket=bucket_name, Key=file_path)\n",
    "Labitemlist = pd.read_csv(obj['Body'], header=None,names=['labitem', 'cnt'], dtype=int)\n",
    "\n",
    "file_path = 'Labrado/alllabs1000adm/unique_adm_year_day.csv'\n",
    "obj = s3.get_object(Bucket=bucket_name, Key=file_path)\n",
    "unique_adm_year_day = pd.read_csv(obj['Body'], header=None,names=['hadm_id', 'chartyear', 'day','rowinx'], dtype=int)\n",
    "\n",
    "unique_hadm_by_year = unique_adm_year_day.groupby('chartyear')['hadm_id'].nunique()\n",
    "cumulative_sum = unique_hadm_by_year.cumsum()\n",
    "total_sum = cumulative_sum.iloc[-1]\n",
    "split_index = cumulative_sum[cumulative_sum >= 0.8 * total_sum].index[0]\n",
    "print(\"split year is\",split_index)\n",
    "Row_Train = unique_adm_year_day['chartyear']<=split_index\n",
    "Train_inx = Row_Train[Row_Train].index\n",
    "Row_Test = unique_adm_year_day['chartyear']>split_index\n",
    "Test_inx = Row_Test[Row_Test].index"
   ]
  },
  {
   "cell_type": "code",
   "execution_count": 2,
   "metadata": {},
   "outputs": [],
   "source": [
    "\n",
    "file_path = 'Labrado/alllabs1000adm/npval.csv'\n",
    "obj = s3.get_object(Bucket=bucket_name, Key=file_path)\n",
    "npval = pd.read_csv(obj['Body'], header=None, dtype=float)\n",
    "\n",
    "\n",
    "file_path = 'Labrado/alllabs1000adm/npval_last.csv'\n",
    "obj = s3.get_object(Bucket=bucket_name, Key=file_path)\n",
    "npval_last = pd.read_csv(obj['Body'], header=None, dtype=float)"
   ]
  },
  {
   "cell_type": "code",
   "execution_count": 3,
   "metadata": {},
   "outputs": [],
   "source": [
    "file_path = 'Labrado/alllabs1000adm/nptime.csv'\n",
    "obj = s3.get_object(Bucket=bucket_name, Key=file_path)\n",
    "nptime = pd.read_csv(obj['Body'], header=None, dtype=float)\n",
    "\n",
    "file_path = 'Labrado/alllabs1000adm/nptime_last.csv'\n",
    "obj = s3.get_object(Bucket=bucket_name, Key=file_path)\n",
    "nptime_last = pd.read_csv(obj['Body'], header=None, dtype=float)"
   ]
  },
  {
   "cell_type": "code",
   "execution_count": 19,
   "metadata": {},
   "outputs": [
    {
     "data": {
      "text/plain": [
       "(1582939, 10)"
      ]
     },
     "execution_count": 19,
     "metadata": {},
     "output_type": "execute_result"
    }
   ],
   "source": [
    "X_train[:,0:LanCnt*2:2].shape"
   ]
  },
  {
   "cell_type": "code",
   "execution_count": null,
   "metadata": {},
   "outputs": [],
   "source": [
    "LanCnt = 10\n",
    "X_train = np.full((len(Train_inx),LanCnt*4), np.nan)\n",
    "X_train[:,0:LanCnt*2:2] = npval.iloc[Train_inx,:LanCnt]\n",
    "X_train[:,1:LanCnt*2:2] = nptime.iloc[Train_inx,:LanCnt]\n",
    "X_train[:,LanCnt*2:LanCnt*4:2] = npval_last.iloc[Train_inx,:LanCnt]\n",
    "X_train[:,LanCnt*2+1:LanCnt*4:2] = nptime_last.iloc[Train_inx,:LanCnt]\n",
    "\n",
    "X_test = np.full((len(Test_inx),LanCnt*4), np.nan)\n",
    "X_test[:,0:LanCnt*2:2] = npval.iloc[Test_inx,:LanCnt]\n",
    "X_test[:,1:LanCnt*2:2] = nptime.iloc[Test_inx,:LanCnt]\n",
    "X_test[:,LanCnt*2:LanCnt*4:2] = npval_last.iloc[Test_inx,:LanCnt]\n",
    "X_test[:,LanCnt*2+1:LanCnt*4:2] = nptime_last.iloc[Test_inx,:LanCnt]\n"
   ]
  },
  {
   "cell_type": "code",
   "execution_count": 27,
   "metadata": {},
   "outputs": [
    {
     "data": {
      "text/plain": [
       "array([[  3.5,  18. , 137. ,  18. , 103. ,  18. ,  26.5,  18. ,   1.1,\n",
       "         18. ,  24. ,  18. ,  14. ,  18. ,  19. ,  18. , 169. ,  18. ,\n",
       "        183. ,  18. ,   nan,   nan,   nan,   nan,   nan,   nan,   nan,\n",
       "          nan,   nan,   nan,   nan,   nan,   nan,   nan,   nan,   nan,\n",
       "          nan,   nan,   nan,   nan],\n",
       "       [  3.7,  18. , 136. ,  18. , 100. ,  18. ,  28.1,  18. ,   1.2,\n",
       "         18. ,  28. ,  18. ,  12. ,  18. ,  17. ,  18. , 190. ,  18. ,\n",
       "        195. ,  18. ,   3.5,  42. , 137. ,  42. , 103. ,  42. ,  26.5,\n",
       "         42. ,   1.1,  42. ,  24. ,  42. ,  14. ,  42. ,  19. ,  42. ,\n",
       "        169. ,  42. , 183. ,  42. ],\n",
       "       [  3.9,  17. , 138. ,  17. , 102. ,  17. ,  24.4,  14. ,   0.9,\n",
       "         17. ,  26. ,  17. ,  14. ,  17. ,  14. ,  17. , 177. ,  17. ,\n",
       "        188. ,  14. ,   3.7,  42. , 136. ,  42. , 100. ,  42. ,  28.1,\n",
       "         42. ,   1.2,  42. ,  28. ,  42. ,  12. ,  42. ,  17. ,  42. ,\n",
       "        190. ,  42. , 195. ,  42. ],\n",
       "       [  5.2,  17. , 140. ,  17. , 104. ,  17. ,  32.1,  17. ,   1.1,\n",
       "         17. ,  25. ,  17. ,  16. ,  17. ,  28. ,  17. ,  88. ,  17. ,\n",
       "        196. ,  17. ,   nan,   nan,   nan,   nan,   nan,   nan,   nan,\n",
       "          nan,   nan,   nan,   nan,   nan,   nan,   nan,   nan,   nan,\n",
       "          nan,   nan,   nan,   nan],\n",
       "       [  4.8,  17. , 141. ,  17. , 106. ,  17. ,  30.3,  17. ,   2.3,\n",
       "         17. ,  24. ,  17. ,  11. ,  17. ,  26. ,  17. , 165. ,  17. ,\n",
       "        157. ,  17. ,   nan,   nan,   nan,   nan,   nan,   nan,   nan,\n",
       "          nan,   nan,   nan,   nan,   nan,   nan,   nan,   nan,   nan,\n",
       "          nan,   nan,   nan,   nan]])"
      ]
     },
     "execution_count": 27,
     "metadata": {},
     "output_type": "execute_result"
    }
   ],
   "source": [
    "X_train[:5,:]"
   ]
  },
  {
   "cell_type": "code",
   "execution_count": null,
   "metadata": {},
   "outputs": [],
   "source": [
    "np.savetxt('X_train.csv', X_train, delimiter=',')\n",
    "\n",
    "file_name = \"X_train.csv\"\n",
    "file_key = \"Labrado/alllabs1000adm/X_train.csv\"\n",
    "s3.upload_file(file_name, bucket_name,file_key)\n",
    "\n",
    "\n",
    "np.savetxt('X_test.csv', X_test, delimiter=',')\n",
    "file_name = \"X_test.csv\"\n",
    "file_key = \"Labrado/alllabs1000adm/X_test.csv\"\n",
    "s3.upload_file(file_name, bucket_name,file_key)"
   ]
  }
 ],
 "metadata": {
  "kernelspec": {
   "display_name": "base",
   "language": "python",
   "name": "python3"
  },
  "language_info": {
   "codemirror_mode": {
    "name": "ipython",
    "version": 3
   },
   "file_extension": ".py",
   "mimetype": "text/x-python",
   "name": "python",
   "nbconvert_exporter": "python",
   "pygments_lexer": "ipython3",
   "version": "3.10.14"
  }
 },
 "nbformat": 4,
 "nbformat_minor": 2
}
