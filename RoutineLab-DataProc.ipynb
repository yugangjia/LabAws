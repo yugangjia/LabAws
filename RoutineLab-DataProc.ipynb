{
 "cells": [
  {
   "cell_type": "code",
   "execution_count": 2,
   "id": "68359f29-f2c2-4d15-871b-d9388522e45d",
   "metadata": {
    "editable": true,
    "slideshow": {
     "slide_type": ""
    },
    "tags": []
   },
   "outputs": [],
   "source": [
    "import matplotlib.pyplot as plt\n",
    "import pandas as pd\n",
    "import numpy as np\n",
    "from itertools import product\n",
    "from datetime import datetime, timedelta\n",
    "import matplotlib.pyplot as plt\n",
    "import xgboost as xgb\n",
    "from sklearn.model_selection import train_test_split,train_test_split, GridSearchCV\n",
    "from sklearn.metrics import accuracy_score,mean_squared_error, mean_absolute_error, r2_score,confusion_matrix\n",
    "from sklearn.preprocessing import MinMaxScaler"
   ]
  },
  {
   "cell_type": "code",
   "execution_count": null,
   "id": "0760f33e-4cc7-4730-819f-1b1d7d780974",
   "metadata": {},
   "outputs": [],
   "source": [
    "rawdata = pd.read_csv('s3://sagemaker-studio-905418013525-nvxe84zgs6/Labrado/rl8/rl8.csv')\n",
    "# Convert the data types of each column\n",
    "rl8 = rawdata\n",
    "rl8['subject_id'] = rawdata['subject_id'].astype('Int64')\n",
    "rl8['hadm_id'] = rawdata['hadm_id'].astype('Int64')\n",
    "rl8['itemid'] = rawdata['itemid'].astype('Int64')\n",
    "rl8['charttime'] = pd.to_datetime(rawdata['charttime'])\n",
    "rl8['chartyear'] = rawdata['chartyear'].astype('Int64')"
   ]
  },
  {
   "cell_type": "code",
   "execution_count": null,
   "id": "5c31bc9a-a786-4414-aa97-8ee8b71d659a",
   "metadata": {},
   "outputs": [],
   "source": [
    "print(rl8.shape)\n",
    "rl8.dropna(how='any', inplace=True)\n",
    "print(rl8.shape)\n",
    "mapping = {50882: 'Bic', 50912: 'Crt', 50971: 'Pot', 50983: 'Sod', 51006: 'Ure', 51222: 'Hgb', 51265: 'Plt', 51301: 'Wbc'}\n",
    "rl8['itemname'] = rl8['itemid'].map(mapping)\n",
    "rl_sorted = rl8.sort_values(by=['hadm_id', 'chartyear'])\n",
    "rl_sorted['min_timestamps'] = rl_sorted.groupby('hadm_id')['charttime'].transform('min')\n",
    "rl_sorted['relative_time'] = ((rl_sorted['charttime'] - rl_sorted['min_timestamps']).dt.total_seconds() // 3600).astype(int)\n",
    "rl_sorted = rl_sorted.reset_index(drop=True)\n",
    "hadm_id_indices = rl_sorted.groupby('hadm_id').apply(lambda group: {'start_index': group.index.min(), 'end_index': group.index.max()+1}).to_dict()"
   ]
  },
  {
   "cell_type": "code",
   "execution_count": 1,
   "id": "27297777-212a-4ceb-9f4a-527309c92962",
   "metadata": {
    "editable": true,
    "slideshow": {
     "slide_type": ""
    },
    "tags": []
   },
   "outputs": [
    {
     "ename": "NameError",
     "evalue": "name 'rl_sorted' is not defined",
     "output_type": "error",
     "traceback": [
      "\u001b[0;31m---------------------------------------------------------------------------\u001b[0m",
      "\u001b[0;31mNameError\u001b[0m                                 Traceback (most recent call last)",
      "Cell \u001b[0;32mIn[1], line 2\u001b[0m\n\u001b[1;32m      1\u001b[0m LabName \u001b[38;5;241m=\u001b[39m \u001b[38;5;124m'\u001b[39m\u001b[38;5;124mCrt\u001b[39m\u001b[38;5;124m'\u001b[39m\n\u001b[0;32m----> 2\u001b[0m selected_rl \u001b[38;5;241m=\u001b[39m \u001b[43mrl_sorted\u001b[49m[rl_sorted[\u001b[38;5;124m'\u001b[39m\u001b[38;5;124mitemname\u001b[39m\u001b[38;5;124m'\u001b[39m]\u001b[38;5;241m==\u001b[39mLabName][[\u001b[38;5;124m'\u001b[39m\u001b[38;5;124mhadm_id\u001b[39m\u001b[38;5;124m'\u001b[39m,\u001b[38;5;124m'\u001b[39m\u001b[38;5;124mchartyear\u001b[39m\u001b[38;5;124m'\u001b[39m,\u001b[38;5;124m'\u001b[39m\u001b[38;5;124mitemname\u001b[39m\u001b[38;5;124m'\u001b[39m,\u001b[38;5;124m'\u001b[39m\u001b[38;5;124mvaluenum\u001b[39m\u001b[38;5;124m'\u001b[39m,\u001b[38;5;124m'\u001b[39m\u001b[38;5;124mrelative_time\u001b[39m\u001b[38;5;124m'\u001b[39m]]\n\u001b[1;32m      3\u001b[0m \u001b[38;5;28;01mfor\u001b[39;00m inx, row \u001b[38;5;129;01min\u001b[39;00m selected_rl\u001b[38;5;241m.\u001b[39miterrows():\n\u001b[1;32m      4\u001b[0m   hadm_id \u001b[38;5;241m=\u001b[39m row[\u001b[38;5;124m'\u001b[39m\u001b[38;5;124mhadm_id\u001b[39m\u001b[38;5;124m'\u001b[39m]\n",
      "\u001b[0;31mNameError\u001b[0m: name 'rl_sorted' is not defined"
     ]
    }
   ],
   "source": [
    "LabName = 'Crt'\n",
    "selected_rl = rl_sorted[rl_sorted['itemname']==LabName][['hadm_id','chartyear','itemname','valuenum','relative_time']]\n",
    "for inx, row in selected_rl.iterrows():\n",
    "  hadm_id = row['hadm_id']\n",
    "  start_index = hadm_id_indices.get(hadm_id)['start_index']\n",
    "  # Get the end index for selection\n",
    "  end_index = hadm_id_indices.get(hadm_id)['end_index']\n",
    "  filtered_df = pd.concat([rl_sorted.iloc[start_index:inx], rl_sorted.iloc[inx + 1:end_index]])\n",
    "  filtered_df['abs_time_diff'] = abs(filtered_df['relative_time']-row['relative_time'])\n",
    "  idx_min_abs_time_diff = filtered_df.groupby('itemname')['abs_time_diff'].idxmin()\n",
    "  pred_df = filtered_df.loc[idx_min_abs_time_diff, ['itemname', 'valuenum','abs_time_diff']]\n",
    "  for _,prow in pred_df.iterrows():\n",
    "    selected_rl.at[inx,prow['itemname']] = prow['valuenum']\n",
    "    selected_rl.at[inx,f\"{prow['itemname']}_timedif\"] = prow['abs_time_diff']\n",
    "selected_rl.to_csv(f\"s3://sagemaker-studio-905418013525-nvxe84zgs6/Labrado/rl8/rl8_{LabName}.csv\", index=False)"
   ]
  },
  {
   "cell_type": "code",
   "execution_count": null,
   "id": "3e224bec-b5ef-4cae-87a5-34a3cba2b585",
   "metadata": {},
   "outputs": [],
   "source": []
  }
 ],
 "metadata": {
  "kernelspec": {
   "display_name": "Python 3 (ipykernel)",
   "language": "python",
   "name": "python3"
  },
  "language_info": {
   "codemirror_mode": {
    "name": "ipython",
    "version": 3
   },
   "file_extension": ".py",
   "mimetype": "text/x-python",
   "name": "python",
   "nbconvert_exporter": "python",
   "pygments_lexer": "ipython3",
   "version": "3.10.14"
  }
 },
 "nbformat": 4,
 "nbformat_minor": 5
}
