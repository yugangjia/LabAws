{
 "cells": [
  {
   "cell_type": "code",
   "execution_count": null,
   "id": "0aa437cc-7707-4b3b-aed4-211d99be809d",
   "metadata": {},
   "outputs": [],
   "source": [
    "!pip install xgboost\n",
    "!pip install s3fs"
   ]
  },
  {
   "cell_type": "code",
   "execution_count": 1,
   "id": "d116441e-8b6e-490a-a974-714fbab1ee92",
   "metadata": {},
   "outputs": [],
   "source": [
    "import matplotlib.pyplot as plt\n",
    "import s3fs\n",
    "import pandas as pd\n",
    "import numpy as np\n",
    "from itertools import product\n",
    "from datetime import datetime, timedelta\n",
    "import matplotlib.pyplot as plt\n",
    "import xgboost as xgb\n",
    "from sklearn.model_selection import train_test_split,train_test_split, GridSearchCV\n",
    "from sklearn.metrics import accuracy_score,mean_squared_error, mean_absolute_error, r2_score,confusion_matrix\n",
    "from sklearn.preprocessing import MinMaxScaler"
   ]
  },
  {
   "cell_type": "code",
   "execution_count": 2,
   "id": "9b473685-0b34-4540-81cd-fe790b2cdbff",
   "metadata": {},
   "outputs": [],
   "source": [
    "def train_xgboost_model(X_train, X_test, y_train, y_test):\n",
    "    # Split the data into training and testing sets\n",
    "\n",
    "    # Define the XGBoost model\n",
    "    model = xgb.XGBRegressor(objective=\"reg:squarederror\")\n",
    "\n",
    "    # Define the hyperparameter grid for grid search\n",
    "    param_grid = {\n",
    "        'learning_rate': [0.01, 0.1, 0.2],\n",
    "        'max_depth': [3, 4, 5],\n",
    "        'n_estimators': [50, 100, 200],\n",
    "    }\n",
    "\n",
    "    # Use GridSearchCV to find the best hyperparameters\n",
    "    grid_search = GridSearchCV(model, param_grid, scoring='neg_mean_squared_error', cv=3)\n",
    "    grid_search.fit(X_train, y_train)\n",
    "\n",
    "    # Get the best model from the grid search\n",
    "    best_model = grid_search.best_estimator_\n",
    "\n",
    "    # Make predictions on the test set using the best model\n",
    "    predictions = best_model.predict(X_test)\n",
    "\n",
    "    # Calculate evaluation metrics\n",
    "    mse = mean_squared_error(y_test, predictions)\n",
    "    mae = mean_absolute_error(y_test, predictions)\n",
    "    r2 = r2_score(y_test, predictions)\n",
    "    std_dev = np.std(y_test - predictions)  # Standard deviation of residuals\n",
    "\n",
    "    return {\n",
    "        \"y_test\": y_test,\n",
    "        \"predictions\": predictions,\n",
    "        \"mse\": mse,\n",
    "        \"mae\": mae,\n",
    "        \"r2\": r2,\n",
    "        \"std_dev\": std_dev,\n",
    "        \"best_params\": grid_search.best_params_\n",
    "    }"
   ]
  },
  {
   "cell_type": "code",
   "execution_count": 20,
   "id": "1a9cc228-2f2f-4467-a1d4-3481451a4fb8",
   "metadata": {},
   "outputs": [],
   "source": [
    "bucket_name = 'sagemaker-studio-905418013525-nvxe84zgs6'\n",
    "file_path = 'Labrado/rl8/rl8_Pot.csv'\n",
    "obj = s3.get_object(Bucket=bucket_name, Key=file_path)\n",
    "rawdata1 = pd.read_csv(obj['Body'])"
   ]
  },
  {
   "cell_type": "code",
   "execution_count": 81,
   "id": "6edbffa6-b242-4a97-9d17-64d0632db01e",
   "metadata": {},
   "outputs": [
    {
     "data": {
      "text/plain": [
       "(2078644, 754)"
      ]
     },
     "execution_count": 81,
     "metadata": {},
     "output_type": "execute_result"
    }
   ],
   "source": [
    "rawdata.shape"
   ]
  },
  {
   "cell_type": "code",
   "execution_count": 35,
   "id": "fb1d87f7-10dd-4545-9e2d-84ea75a91c6a",
   "metadata": {},
   "outputs": [
    {
     "data": {
      "text/plain": [
       "7021"
      ]
     },
     "execution_count": 35,
     "metadata": {},
     "output_type": "execute_result"
    }
   ],
   "source": [
    "pd.to_numeric(rawdata['50882'], errors='coerce').isna().sum()"
   ]
  },
  {
   "cell_type": "code",
   "execution_count": 36,
   "id": "982c444c-bf51-4429-a732-e423048fd5c2",
   "metadata": {},
   "outputs": [
    {
     "data": {
      "text/plain": [
       "3"
      ]
     },
     "execution_count": 36,
     "metadata": {},
     "output_type": "execute_result"
    }
   ],
   "source": [
    "pd.to_numeric(rawdata1['Bic'], errors='coerce').isna().sum()"
   ]
  },
  {
   "cell_type": "code",
   "execution_count": 6,
   "id": "9e841f3b-110f-44db-a329-beeb594ebfd3",
   "metadata": {},
   "outputs": [],
   "source": [
    "import boto3\n",
    "s3 = boto3.client('s3')\n",
    "itemid = 50971\n",
    "bucket_name = 'sagemaker-studio-905418013525-nvxe84zgs6'\n",
    "file_path = f\"Labrado/alllabs1000adm/alllabs1000adm_{itemid}.csv\"\n",
    "obj = s3.get_object(Bucket=bucket_name, Key=file_path)\n",
    "rawdata2 = pd.read_csv(obj['Body'])"
   ]
  },
  {
   "cell_type": "code",
   "execution_count": 53,
   "id": "c97289a4-8ffc-4b25-8f21-66325bc71dbc",
   "metadata": {},
   "outputs": [
    {
     "data": {
      "text/html": [
       "<div>\n",
       "<style scoped>\n",
       "    .dataframe tbody tr th:only-of-type {\n",
       "        vertical-align: middle;\n",
       "    }\n",
       "\n",
       "    .dataframe tbody tr th {\n",
       "        vertical-align: top;\n",
       "    }\n",
       "\n",
       "    .dataframe thead th {\n",
       "        text-align: right;\n",
       "    }\n",
       "</style>\n",
       "<table border=\"1\" class=\"dataframe\">\n",
       "  <thead>\n",
       "    <tr style=\"text-align: right;\">\n",
       "      <th></th>\n",
       "      <th>hadm_id</th>\n",
       "      <th>chartyear</th>\n",
       "      <th>valuenum</th>\n",
       "      <th>charttime_diff_hours</th>\n",
       "      <th>50971</th>\n",
       "      <th>50971_dt</th>\n",
       "      <th>50983</th>\n",
       "      <th>50983_dt</th>\n",
       "      <th>50902</th>\n",
       "      <th>50902_dt</th>\n",
       "      <th>...</th>\n",
       "      <th>51088</th>\n",
       "      <th>51088_dt</th>\n",
       "      <th>51795</th>\n",
       "      <th>51795_dt</th>\n",
       "      <th>51068</th>\n",
       "      <th>51068_dt</th>\n",
       "      <th>51105</th>\n",
       "      <th>51105_dt</th>\n",
       "      <th>50881</th>\n",
       "      <th>50881_dt</th>\n",
       "    </tr>\n",
       "  </thead>\n",
       "  <tbody>\n",
       "    <tr>\n",
       "      <th>0</th>\n",
       "      <td>20000019</td>\n",
       "      <td>2159</td>\n",
       "      <td>3.5</td>\n",
       "      <td>0</td>\n",
       "      <td>3.7</td>\n",
       "      <td>24.0</td>\n",
       "      <td>137.0</td>\n",
       "      <td>0.0</td>\n",
       "      <td>103.0</td>\n",
       "      <td>0.0</td>\n",
       "      <td>...</td>\n",
       "      <td>NaN</td>\n",
       "      <td>NaN</td>\n",
       "      <td>NaN</td>\n",
       "      <td>NaN</td>\n",
       "      <td>NaN</td>\n",
       "      <td>NaN</td>\n",
       "      <td>NaN</td>\n",
       "      <td>NaN</td>\n",
       "      <td>NaN</td>\n",
       "      <td>NaN</td>\n",
       "    </tr>\n",
       "    <tr>\n",
       "      <th>1</th>\n",
       "      <td>20000019</td>\n",
       "      <td>2159</td>\n",
       "      <td>3.7</td>\n",
       "      <td>24</td>\n",
       "      <td>3.5</td>\n",
       "      <td>24.0</td>\n",
       "      <td>136.0</td>\n",
       "      <td>0.0</td>\n",
       "      <td>100.0</td>\n",
       "      <td>0.0</td>\n",
       "      <td>...</td>\n",
       "      <td>NaN</td>\n",
       "      <td>NaN</td>\n",
       "      <td>NaN</td>\n",
       "      <td>NaN</td>\n",
       "      <td>NaN</td>\n",
       "      <td>NaN</td>\n",
       "      <td>NaN</td>\n",
       "      <td>NaN</td>\n",
       "      <td>NaN</td>\n",
       "      <td>NaN</td>\n",
       "    </tr>\n",
       "    <tr>\n",
       "      <th>2</th>\n",
       "      <td>20000019</td>\n",
       "      <td>2159</td>\n",
       "      <td>3.9</td>\n",
       "      <td>49</td>\n",
       "      <td>3.7</td>\n",
       "      <td>25.0</td>\n",
       "      <td>138.0</td>\n",
       "      <td>0.0</td>\n",
       "      <td>102.0</td>\n",
       "      <td>0.0</td>\n",
       "      <td>...</td>\n",
       "      <td>NaN</td>\n",
       "      <td>NaN</td>\n",
       "      <td>NaN</td>\n",
       "      <td>NaN</td>\n",
       "      <td>NaN</td>\n",
       "      <td>NaN</td>\n",
       "      <td>NaN</td>\n",
       "      <td>NaN</td>\n",
       "      <td>NaN</td>\n",
       "      <td>NaN</td>\n",
       "    </tr>\n",
       "    <tr>\n",
       "      <th>3</th>\n",
       "      <td>20000024</td>\n",
       "      <td>2151</td>\n",
       "      <td>5.2</td>\n",
       "      <td>0</td>\n",
       "      <td>NaN</td>\n",
       "      <td>NaN</td>\n",
       "      <td>140.0</td>\n",
       "      <td>0.0</td>\n",
       "      <td>104.0</td>\n",
       "      <td>0.0</td>\n",
       "      <td>...</td>\n",
       "      <td>NaN</td>\n",
       "      <td>NaN</td>\n",
       "      <td>NaN</td>\n",
       "      <td>NaN</td>\n",
       "      <td>NaN</td>\n",
       "      <td>NaN</td>\n",
       "      <td>NaN</td>\n",
       "      <td>NaN</td>\n",
       "      <td>NaN</td>\n",
       "      <td>NaN</td>\n",
       "    </tr>\n",
       "    <tr>\n",
       "      <th>4</th>\n",
       "      <td>20000034</td>\n",
       "      <td>2174</td>\n",
       "      <td>4.8</td>\n",
       "      <td>0</td>\n",
       "      <td>4.3</td>\n",
       "      <td>23.0</td>\n",
       "      <td>141.0</td>\n",
       "      <td>0.0</td>\n",
       "      <td>106.0</td>\n",
       "      <td>0.0</td>\n",
       "      <td>...</td>\n",
       "      <td>NaN</td>\n",
       "      <td>NaN</td>\n",
       "      <td>NaN</td>\n",
       "      <td>NaN</td>\n",
       "      <td>NaN</td>\n",
       "      <td>NaN</td>\n",
       "      <td>NaN</td>\n",
       "      <td>NaN</td>\n",
       "      <td>NaN</td>\n",
       "      <td>NaN</td>\n",
       "    </tr>\n",
       "  </tbody>\n",
       "</table>\n",
       "<p>5 rows × 754 columns</p>\n",
       "</div>"
      ],
      "text/plain": [
       "    hadm_id  chartyear  valuenum  charttime_diff_hours  50971  50971_dt  \\\n",
       "0  20000019       2159       3.5                     0    3.7      24.0   \n",
       "1  20000019       2159       3.7                    24    3.5      24.0   \n",
       "2  20000019       2159       3.9                    49    3.7      25.0   \n",
       "3  20000024       2151       5.2                     0    NaN       NaN   \n",
       "4  20000034       2174       4.8                     0    4.3      23.0   \n",
       "\n",
       "   50983  50983_dt  50902  50902_dt  ...  51088  51088_dt  51795  51795_dt  \\\n",
       "0  137.0       0.0  103.0       0.0  ...    NaN       NaN    NaN       NaN   \n",
       "1  136.0       0.0  100.0       0.0  ...    NaN       NaN    NaN       NaN   \n",
       "2  138.0       0.0  102.0       0.0  ...    NaN       NaN    NaN       NaN   \n",
       "3  140.0       0.0  104.0       0.0  ...    NaN       NaN    NaN       NaN   \n",
       "4  141.0       0.0  106.0       0.0  ...    NaN       NaN    NaN       NaN   \n",
       "\n",
       "   51068  51068_dt  51105  51105_dt  50881  50881_dt  \n",
       "0    NaN       NaN    NaN       NaN    NaN       NaN  \n",
       "1    NaN       NaN    NaN       NaN    NaN       NaN  \n",
       "2    NaN       NaN    NaN       NaN    NaN       NaN  \n",
       "3    NaN       NaN    NaN       NaN    NaN       NaN  \n",
       "4    NaN       NaN    NaN       NaN    NaN       NaN  \n",
       "\n",
       "[5 rows x 754 columns]"
      ]
     },
     "execution_count": 53,
     "metadata": {},
     "output_type": "execute_result"
    }
   ],
   "source": [
    "rawdata.head()"
   ]
  },
  {
   "cell_type": "code",
   "execution_count": 63,
   "id": "c91483eb-611b-457d-b58e-977f5f7bdb96",
   "metadata": {},
   "outputs": [
    {
     "data": {
      "text/plain": [
       "Index(['50971', '50983', '50902', '51221', '50912', '50882', '50868', '51006',\n",
       "       '50931', '51265',\n",
       "       ...\n",
       "       '51505', '51056', '51114', '51946', '51945', '51088', '51795', '51068',\n",
       "       '51105', '50881'],\n",
       "      dtype='object', length=375)"
      ]
     },
     "execution_count": 63,
     "metadata": {},
     "output_type": "execute_result"
    }
   ],
   "source": [
    "rawdata.columns[4::2]"
   ]
  },
  {
   "cell_type": "code",
   "execution_count": 64,
   "id": "2de89b7c-87af-4821-a8ae-7fff20f62cfa",
   "metadata": {},
   "outputs": [
    {
     "name": "stderr",
     "output_type": "stream",
     "text": [
      "/opt/conda/lib/python3.10/site-packages/numpy/lib/function_base.py:2897: RuntimeWarning: invalid value encountered in divide\n",
      "  c /= stddev[:, None]\n",
      "/opt/conda/lib/python3.10/site-packages/numpy/lib/function_base.py:2898: RuntimeWarning: invalid value encountered in divide\n",
      "  c /= stddev[None, :]\n",
      "/opt/conda/lib/python3.10/site-packages/numpy/lib/function_base.py:2889: RuntimeWarning: Degrees of freedom <= 0 for slice\n",
      "  c = cov(x, y, rowvar, dtype=dtype)\n",
      "/opt/conda/lib/python3.10/site-packages/numpy/lib/function_base.py:2748: RuntimeWarning: divide by zero encountered in divide\n",
      "  c *= np.true_divide(1, fact)\n",
      "/opt/conda/lib/python3.10/site-packages/numpy/lib/function_base.py:2748: RuntimeWarning: invalid value encountered in multiply\n",
      "  c *= np.true_divide(1, fact)\n"
     ]
    }
   ],
   "source": [
    "feature_cols = rawdata.columns[4::2]\n",
    "target_col = rawdata.columns[2]\n",
    "correlation = rawdata[feature_cols].corrwith(rawdata[target_col])\n",
    "# Sort the absolute correlation values in descending order\n",
    "correlation = correlation.abs().sort_values(ascending=False)\n",
    "# Select the top features based on correlation coefficient\n",
    "top_features = correlation.index.tolist()"
   ]
  },
  {
   "cell_type": "code",
   "execution_count": null,
   "id": "5c45c1a8-0a33-4d2d-9767-82123bb381f5",
   "metadata": {},
   "outputs": [],
   "source": [
    "condition = rawdata['chartyear'] <= 2178\n",
    "TrainData = rawdata[condition].iloc[:99999,]\n",
    "TestData = rawdata[~condition].iloc[:99999,]\n",
    "feature_cols = rawdata.columns[4:10]\n",
    "target_col = rawdata.columns[2]\n",
    "X_train = TrainData[feature_cols]\n",
    "y_train = TrainData[target_col]\n",
    "X_test = TestData[feature_cols]\n",
    "y_test = TestData[target_col]"
   ]
  },
  {
   "cell_type": "code",
   "execution_count": 85,
   "id": "77777804-589a-4fd1-aff8-0c35b8ea24e8",
   "metadata": {},
   "outputs": [
    {
     "name": "stdout",
     "output_type": "stream",
     "text": [
      "Current time: 2024-05-12 19:14:03.020244\n"
     ]
    },
    {
     "ename": "ValueError",
     "evalue": "\nAll the 81 fits failed.\nIt is very likely that your model is misconfigured.\nYou can try to debug the error by setting error_score='raise'.\n\nBelow are more details about the failures:\n--------------------------------------------------------------------------------\n81 fits failed with the following error:\nTraceback (most recent call last):\n  File \"/opt/conda/lib/python3.10/site-packages/sklearn/model_selection/_validation.py\", line 895, in _fit_and_score\n    estimator.fit(X_train, y_train, **fit_params)\n  File \"/opt/conda/lib/python3.10/site-packages/xgboost/core.py\", line 620, in inner_f\n    return func(**kwargs)\n  File \"/opt/conda/lib/python3.10/site-packages/xgboost/sklearn.py\", line 988, in fit\n    train_dmatrix, evals = _wrap_evaluation_matrices(\n  File \"/opt/conda/lib/python3.10/site-packages/xgboost/sklearn.py\", line 448, in _wrap_evaluation_matrices\n    train_dmatrix = create_dmatrix(\n  File \"/opt/conda/lib/python3.10/site-packages/xgboost/sklearn.py\", line 908, in _create_dmatrix\n    return DMatrix(**kwargs, nthread=self.n_jobs)\n  File \"/opt/conda/lib/python3.10/site-packages/xgboost/core.py\", line 620, in inner_f\n    return func(**kwargs)\n  File \"/opt/conda/lib/python3.10/site-packages/xgboost/core.py\", line 754, in __init__\n    self.set_info(\n  File \"/opt/conda/lib/python3.10/site-packages/xgboost/core.py\", line 620, in inner_f\n    return func(**kwargs)\n  File \"/opt/conda/lib/python3.10/site-packages/xgboost/core.py\", line 819, in set_info\n    self.set_label(label)\n  File \"/opt/conda/lib/python3.10/site-packages/xgboost/core.py\", line 950, in set_label\n    dispatch_meta_backend(self, label, 'label', 'float')\n  File \"/opt/conda/lib/python3.10/site-packages/xgboost/data.py\", line 1134, in dispatch_meta_backend\n    _meta_from_pandas_series(data, name, dtype, handle)\n  File \"/opt/conda/lib/python3.10/site-packages/xgboost/data.py\", line 443, in _meta_from_pandas_series\n    _meta_from_numpy(data, name, dtype, handle)\n  File \"/opt/conda/lib/python3.10/site-packages/xgboost/data.py\", line 1050, in _meta_from_numpy\n    _check_call(_LIB.XGDMatrixSetInfoFromInterface(handle, c_str(field), interface_str))\n  File \"/opt/conda/lib/python3.10/site-packages/xgboost/core.py\", line 279, in _check_call\n    raise XGBoostError(py_str(_LIB.XGBGetLastError()))\nxgboost.core.XGBoostError: [19:14:03] /home/conda/feedstock_root/build_artifacts/xgboost-split_1700181168148/work/src/data/data.cc:461: Check failed: valid: Label contains NaN, infinity or a value too large.\nStack trace:\n  [bt] (0) /opt/conda/lib/libxgboost.so(+0xb6361) [0x7fdb3d04a361]\n  [bt] (1) /opt/conda/lib/libxgboost.so(xgboost::MetaInfo::SetInfoFromHost(xgboost::GenericParameter const&, xgboost::StringView, xgboost::Json)+0xfbc) [0x7fdb3d1457bc]\n  [bt] (2) /opt/conda/lib/libxgboost.so(xgboost::MetaInfo::SetInfo(xgboost::GenericParameter const&, xgboost::StringView, xgboost::StringView)+0x80) [0x7fdb3d147490]\n  [bt] (3) /opt/conda/lib/libxgboost.so(XGDMatrixSetInfoFromInterface+0xec) [0x7fdb3d04cf4c]\n  [bt] (4) /opt/conda/lib/python3.10/lib-dynload/../../libffi.so.8(+0x6a4a) [0x7fdbff965a4a]\n  [bt] (5) /opt/conda/lib/python3.10/lib-dynload/../../libffi.so.8(+0x5fea) [0x7fdbff964fea]\n  [bt] (6) /opt/conda/lib/python3.10/lib-dynload/_ctypes.cpython-310-x86_64-linux-gnu.so(+0x12461) [0x7fdbff6db461]\n  [bt] (7) /opt/conda/lib/python3.10/lib-dynload/_ctypes.cpython-310-x86_64-linux-gnu.so(+0x86eb) [0x7fdbff6d16eb]\n  [bt] (8) /opt/conda/bin/python(_PyObject_MakeTpCall+0x26b) [0x558953ed6a6b]\n\n\n",
     "output_type": "error",
     "traceback": [
      "\u001b[0;31m---------------------------------------------------------------------------\u001b[0m",
      "\u001b[0;31mValueError\u001b[0m                                Traceback (most recent call last)",
      "Cell \u001b[0;32mIn[85], line 2\u001b[0m\n\u001b[1;32m      1\u001b[0m \u001b[38;5;28mprint\u001b[39m(\u001b[38;5;124m\"\u001b[39m\u001b[38;5;124mCurrent time:\u001b[39m\u001b[38;5;124m\"\u001b[39m, datetime\u001b[38;5;241m.\u001b[39mnow())\n\u001b[0;32m----> 2\u001b[0m model_results \u001b[38;5;241m=\u001b[39m \u001b[43mtrain_xgboost_model\u001b[49m\u001b[43m(\u001b[49m\u001b[43mX_train\u001b[49m\u001b[43m,\u001b[49m\u001b[43m \u001b[49m\u001b[43mX_test\u001b[49m\u001b[43m,\u001b[49m\u001b[43m \u001b[49m\u001b[43my_train\u001b[49m\u001b[43m,\u001b[49m\u001b[43m \u001b[49m\u001b[43my_test\u001b[49m\u001b[43m)\u001b[49m\n\u001b[1;32m      3\u001b[0m \u001b[38;5;28mprint\u001b[39m(\u001b[38;5;124m\"\u001b[39m\u001b[38;5;124mCurrent time:\u001b[39m\u001b[38;5;124m\"\u001b[39m, datetime\u001b[38;5;241m.\u001b[39mnow())\n\u001b[1;32m      4\u001b[0m \u001b[38;5;28mprint\u001b[39m(model_results)\n",
      "Cell \u001b[0;32mIn[2], line 16\u001b[0m, in \u001b[0;36mtrain_xgboost_model\u001b[0;34m(X_train, X_test, y_train, y_test)\u001b[0m\n\u001b[1;32m     14\u001b[0m \u001b[38;5;66;03m# Use GridSearchCV to find the best hyperparameters\u001b[39;00m\n\u001b[1;32m     15\u001b[0m grid_search \u001b[38;5;241m=\u001b[39m GridSearchCV(model, param_grid, scoring\u001b[38;5;241m=\u001b[39m\u001b[38;5;124m'\u001b[39m\u001b[38;5;124mneg_mean_squared_error\u001b[39m\u001b[38;5;124m'\u001b[39m, cv\u001b[38;5;241m=\u001b[39m\u001b[38;5;241m3\u001b[39m)\n\u001b[0;32m---> 16\u001b[0m \u001b[43mgrid_search\u001b[49m\u001b[38;5;241;43m.\u001b[39;49m\u001b[43mfit\u001b[49m\u001b[43m(\u001b[49m\u001b[43mX_train\u001b[49m\u001b[43m,\u001b[49m\u001b[43m \u001b[49m\u001b[43my_train\u001b[49m\u001b[43m)\u001b[49m\n\u001b[1;32m     18\u001b[0m \u001b[38;5;66;03m# Get the best model from the grid search\u001b[39;00m\n\u001b[1;32m     19\u001b[0m best_model \u001b[38;5;241m=\u001b[39m grid_search\u001b[38;5;241m.\u001b[39mbest_estimator_\n",
      "File \u001b[0;32m/opt/conda/lib/python3.10/site-packages/sklearn/base.py:1474\u001b[0m, in \u001b[0;36m_fit_context.<locals>.decorator.<locals>.wrapper\u001b[0;34m(estimator, *args, **kwargs)\u001b[0m\n\u001b[1;32m   1467\u001b[0m     estimator\u001b[38;5;241m.\u001b[39m_validate_params()\n\u001b[1;32m   1469\u001b[0m \u001b[38;5;28;01mwith\u001b[39;00m config_context(\n\u001b[1;32m   1470\u001b[0m     skip_parameter_validation\u001b[38;5;241m=\u001b[39m(\n\u001b[1;32m   1471\u001b[0m         prefer_skip_nested_validation \u001b[38;5;129;01mor\u001b[39;00m global_skip_validation\n\u001b[1;32m   1472\u001b[0m     )\n\u001b[1;32m   1473\u001b[0m ):\n\u001b[0;32m-> 1474\u001b[0m     \u001b[38;5;28;01mreturn\u001b[39;00m \u001b[43mfit_method\u001b[49m\u001b[43m(\u001b[49m\u001b[43mestimator\u001b[49m\u001b[43m,\u001b[49m\u001b[43m \u001b[49m\u001b[38;5;241;43m*\u001b[39;49m\u001b[43margs\u001b[49m\u001b[43m,\u001b[49m\u001b[43m \u001b[49m\u001b[38;5;241;43m*\u001b[39;49m\u001b[38;5;241;43m*\u001b[39;49m\u001b[43mkwargs\u001b[49m\u001b[43m)\u001b[49m\n",
      "File \u001b[0;32m/opt/conda/lib/python3.10/site-packages/sklearn/model_selection/_search.py:970\u001b[0m, in \u001b[0;36mBaseSearchCV.fit\u001b[0;34m(self, X, y, **params)\u001b[0m\n\u001b[1;32m    964\u001b[0m     results \u001b[38;5;241m=\u001b[39m \u001b[38;5;28mself\u001b[39m\u001b[38;5;241m.\u001b[39m_format_results(\n\u001b[1;32m    965\u001b[0m         all_candidate_params, n_splits, all_out, all_more_results\n\u001b[1;32m    966\u001b[0m     )\n\u001b[1;32m    968\u001b[0m     \u001b[38;5;28;01mreturn\u001b[39;00m results\n\u001b[0;32m--> 970\u001b[0m \u001b[38;5;28;43mself\u001b[39;49m\u001b[38;5;241;43m.\u001b[39;49m\u001b[43m_run_search\u001b[49m\u001b[43m(\u001b[49m\u001b[43mevaluate_candidates\u001b[49m\u001b[43m)\u001b[49m\n\u001b[1;32m    972\u001b[0m \u001b[38;5;66;03m# multimetric is determined here because in the case of a callable\u001b[39;00m\n\u001b[1;32m    973\u001b[0m \u001b[38;5;66;03m# self.scoring the return type is only known after calling\u001b[39;00m\n\u001b[1;32m    974\u001b[0m first_test_score \u001b[38;5;241m=\u001b[39m all_out[\u001b[38;5;241m0\u001b[39m][\u001b[38;5;124m\"\u001b[39m\u001b[38;5;124mtest_scores\u001b[39m\u001b[38;5;124m\"\u001b[39m]\n",
      "File \u001b[0;32m/opt/conda/lib/python3.10/site-packages/sklearn/model_selection/_search.py:1527\u001b[0m, in \u001b[0;36mGridSearchCV._run_search\u001b[0;34m(self, evaluate_candidates)\u001b[0m\n\u001b[1;32m   1525\u001b[0m \u001b[38;5;28;01mdef\u001b[39;00m \u001b[38;5;21m_run_search\u001b[39m(\u001b[38;5;28mself\u001b[39m, evaluate_candidates):\n\u001b[1;32m   1526\u001b[0m \u001b[38;5;250m    \u001b[39m\u001b[38;5;124;03m\"\"\"Search all candidates in param_grid\"\"\"\u001b[39;00m\n\u001b[0;32m-> 1527\u001b[0m     \u001b[43mevaluate_candidates\u001b[49m\u001b[43m(\u001b[49m\u001b[43mParameterGrid\u001b[49m\u001b[43m(\u001b[49m\u001b[38;5;28;43mself\u001b[39;49m\u001b[38;5;241;43m.\u001b[39;49m\u001b[43mparam_grid\u001b[49m\u001b[43m)\u001b[49m\u001b[43m)\u001b[49m\n",
      "File \u001b[0;32m/opt/conda/lib/python3.10/site-packages/sklearn/model_selection/_search.py:947\u001b[0m, in \u001b[0;36mBaseSearchCV.fit.<locals>.evaluate_candidates\u001b[0;34m(candidate_params, cv, more_results)\u001b[0m\n\u001b[1;32m    940\u001b[0m \u001b[38;5;28;01melif\u001b[39;00m \u001b[38;5;28mlen\u001b[39m(out) \u001b[38;5;241m!=\u001b[39m n_candidates \u001b[38;5;241m*\u001b[39m n_splits:\n\u001b[1;32m    941\u001b[0m     \u001b[38;5;28;01mraise\u001b[39;00m \u001b[38;5;167;01mValueError\u001b[39;00m(\n\u001b[1;32m    942\u001b[0m         \u001b[38;5;124m\"\u001b[39m\u001b[38;5;124mcv.split and cv.get_n_splits returned \u001b[39m\u001b[38;5;124m\"\u001b[39m\n\u001b[1;32m    943\u001b[0m         \u001b[38;5;124m\"\u001b[39m\u001b[38;5;124minconsistent results. Expected \u001b[39m\u001b[38;5;132;01m{}\u001b[39;00m\u001b[38;5;124m \u001b[39m\u001b[38;5;124m\"\u001b[39m\n\u001b[1;32m    944\u001b[0m         \u001b[38;5;124m\"\u001b[39m\u001b[38;5;124msplits, got \u001b[39m\u001b[38;5;132;01m{}\u001b[39;00m\u001b[38;5;124m\"\u001b[39m\u001b[38;5;241m.\u001b[39mformat(n_splits, \u001b[38;5;28mlen\u001b[39m(out) \u001b[38;5;241m/\u001b[39m\u001b[38;5;241m/\u001b[39m n_candidates)\n\u001b[1;32m    945\u001b[0m     )\n\u001b[0;32m--> 947\u001b[0m \u001b[43m_warn_or_raise_about_fit_failures\u001b[49m\u001b[43m(\u001b[49m\u001b[43mout\u001b[49m\u001b[43m,\u001b[49m\u001b[43m \u001b[49m\u001b[38;5;28;43mself\u001b[39;49m\u001b[38;5;241;43m.\u001b[39;49m\u001b[43merror_score\u001b[49m\u001b[43m)\u001b[49m\n\u001b[1;32m    949\u001b[0m \u001b[38;5;66;03m# For callable self.scoring, the return type is only know after\u001b[39;00m\n\u001b[1;32m    950\u001b[0m \u001b[38;5;66;03m# calling. If the return type is a dictionary, the error scores\u001b[39;00m\n\u001b[1;32m    951\u001b[0m \u001b[38;5;66;03m# can now be inserted with the correct key. The type checking\u001b[39;00m\n\u001b[1;32m    952\u001b[0m \u001b[38;5;66;03m# of out will be done in `_insert_error_scores`.\u001b[39;00m\n\u001b[1;32m    953\u001b[0m \u001b[38;5;28;01mif\u001b[39;00m \u001b[38;5;28mcallable\u001b[39m(\u001b[38;5;28mself\u001b[39m\u001b[38;5;241m.\u001b[39mscoring):\n",
      "File \u001b[0;32m/opt/conda/lib/python3.10/site-packages/sklearn/model_selection/_validation.py:536\u001b[0m, in \u001b[0;36m_warn_or_raise_about_fit_failures\u001b[0;34m(results, error_score)\u001b[0m\n\u001b[1;32m    529\u001b[0m \u001b[38;5;28;01mif\u001b[39;00m num_failed_fits \u001b[38;5;241m==\u001b[39m num_fits:\n\u001b[1;32m    530\u001b[0m     all_fits_failed_message \u001b[38;5;241m=\u001b[39m (\n\u001b[1;32m    531\u001b[0m         \u001b[38;5;124mf\u001b[39m\u001b[38;5;124m\"\u001b[39m\u001b[38;5;130;01m\\n\u001b[39;00m\u001b[38;5;124mAll the \u001b[39m\u001b[38;5;132;01m{\u001b[39;00mnum_fits\u001b[38;5;132;01m}\u001b[39;00m\u001b[38;5;124m fits failed.\u001b[39m\u001b[38;5;130;01m\\n\u001b[39;00m\u001b[38;5;124m\"\u001b[39m\n\u001b[1;32m    532\u001b[0m         \u001b[38;5;124m\"\u001b[39m\u001b[38;5;124mIt is very likely that your model is misconfigured.\u001b[39m\u001b[38;5;130;01m\\n\u001b[39;00m\u001b[38;5;124m\"\u001b[39m\n\u001b[1;32m    533\u001b[0m         \u001b[38;5;124m\"\u001b[39m\u001b[38;5;124mYou can try to debug the error by setting error_score=\u001b[39m\u001b[38;5;124m'\u001b[39m\u001b[38;5;124mraise\u001b[39m\u001b[38;5;124m'\u001b[39m\u001b[38;5;124m.\u001b[39m\u001b[38;5;130;01m\\n\u001b[39;00m\u001b[38;5;130;01m\\n\u001b[39;00m\u001b[38;5;124m\"\u001b[39m\n\u001b[1;32m    534\u001b[0m         \u001b[38;5;124mf\u001b[39m\u001b[38;5;124m\"\u001b[39m\u001b[38;5;124mBelow are more details about the failures:\u001b[39m\u001b[38;5;130;01m\\n\u001b[39;00m\u001b[38;5;132;01m{\u001b[39;00mfit_errors_summary\u001b[38;5;132;01m}\u001b[39;00m\u001b[38;5;124m\"\u001b[39m\n\u001b[1;32m    535\u001b[0m     )\n\u001b[0;32m--> 536\u001b[0m     \u001b[38;5;28;01mraise\u001b[39;00m \u001b[38;5;167;01mValueError\u001b[39;00m(all_fits_failed_message)\n\u001b[1;32m    538\u001b[0m \u001b[38;5;28;01melse\u001b[39;00m:\n\u001b[1;32m    539\u001b[0m     some_fits_failed_message \u001b[38;5;241m=\u001b[39m (\n\u001b[1;32m    540\u001b[0m         \u001b[38;5;124mf\u001b[39m\u001b[38;5;124m\"\u001b[39m\u001b[38;5;130;01m\\n\u001b[39;00m\u001b[38;5;132;01m{\u001b[39;00mnum_failed_fits\u001b[38;5;132;01m}\u001b[39;00m\u001b[38;5;124m fits failed out of a total of \u001b[39m\u001b[38;5;132;01m{\u001b[39;00mnum_fits\u001b[38;5;132;01m}\u001b[39;00m\u001b[38;5;124m.\u001b[39m\u001b[38;5;130;01m\\n\u001b[39;00m\u001b[38;5;124m\"\u001b[39m\n\u001b[1;32m    541\u001b[0m         \u001b[38;5;124m\"\u001b[39m\u001b[38;5;124mThe score on these train-test partitions for these parameters\u001b[39m\u001b[38;5;124m\"\u001b[39m\n\u001b[0;32m   (...)\u001b[0m\n\u001b[1;32m    545\u001b[0m         \u001b[38;5;124mf\u001b[39m\u001b[38;5;124m\"\u001b[39m\u001b[38;5;124mBelow are more details about the failures:\u001b[39m\u001b[38;5;130;01m\\n\u001b[39;00m\u001b[38;5;132;01m{\u001b[39;00mfit_errors_summary\u001b[38;5;132;01m}\u001b[39;00m\u001b[38;5;124m\"\u001b[39m\n\u001b[1;32m    546\u001b[0m     )\n",
      "\u001b[0;31mValueError\u001b[0m: \nAll the 81 fits failed.\nIt is very likely that your model is misconfigured.\nYou can try to debug the error by setting error_score='raise'.\n\nBelow are more details about the failures:\n--------------------------------------------------------------------------------\n81 fits failed with the following error:\nTraceback (most recent call last):\n  File \"/opt/conda/lib/python3.10/site-packages/sklearn/model_selection/_validation.py\", line 895, in _fit_and_score\n    estimator.fit(X_train, y_train, **fit_params)\n  File \"/opt/conda/lib/python3.10/site-packages/xgboost/core.py\", line 620, in inner_f\n    return func(**kwargs)\n  File \"/opt/conda/lib/python3.10/site-packages/xgboost/sklearn.py\", line 988, in fit\n    train_dmatrix, evals = _wrap_evaluation_matrices(\n  File \"/opt/conda/lib/python3.10/site-packages/xgboost/sklearn.py\", line 448, in _wrap_evaluation_matrices\n    train_dmatrix = create_dmatrix(\n  File \"/opt/conda/lib/python3.10/site-packages/xgboost/sklearn.py\", line 908, in _create_dmatrix\n    return DMatrix(**kwargs, nthread=self.n_jobs)\n  File \"/opt/conda/lib/python3.10/site-packages/xgboost/core.py\", line 620, in inner_f\n    return func(**kwargs)\n  File \"/opt/conda/lib/python3.10/site-packages/xgboost/core.py\", line 754, in __init__\n    self.set_info(\n  File \"/opt/conda/lib/python3.10/site-packages/xgboost/core.py\", line 620, in inner_f\n    return func(**kwargs)\n  File \"/opt/conda/lib/python3.10/site-packages/xgboost/core.py\", line 819, in set_info\n    self.set_label(label)\n  File \"/opt/conda/lib/python3.10/site-packages/xgboost/core.py\", line 950, in set_label\n    dispatch_meta_backend(self, label, 'label', 'float')\n  File \"/opt/conda/lib/python3.10/site-packages/xgboost/data.py\", line 1134, in dispatch_meta_backend\n    _meta_from_pandas_series(data, name, dtype, handle)\n  File \"/opt/conda/lib/python3.10/site-packages/xgboost/data.py\", line 443, in _meta_from_pandas_series\n    _meta_from_numpy(data, name, dtype, handle)\n  File \"/opt/conda/lib/python3.10/site-packages/xgboost/data.py\", line 1050, in _meta_from_numpy\n    _check_call(_LIB.XGDMatrixSetInfoFromInterface(handle, c_str(field), interface_str))\n  File \"/opt/conda/lib/python3.10/site-packages/xgboost/core.py\", line 279, in _check_call\n    raise XGBoostError(py_str(_LIB.XGBGetLastError()))\nxgboost.core.XGBoostError: [19:14:03] /home/conda/feedstock_root/build_artifacts/xgboost-split_1700181168148/work/src/data/data.cc:461: Check failed: valid: Label contains NaN, infinity or a value too large.\nStack trace:\n  [bt] (0) /opt/conda/lib/libxgboost.so(+0xb6361) [0x7fdb3d04a361]\n  [bt] (1) /opt/conda/lib/libxgboost.so(xgboost::MetaInfo::SetInfoFromHost(xgboost::GenericParameter const&, xgboost::StringView, xgboost::Json)+0xfbc) [0x7fdb3d1457bc]\n  [bt] (2) /opt/conda/lib/libxgboost.so(xgboost::MetaInfo::SetInfo(xgboost::GenericParameter const&, xgboost::StringView, xgboost::StringView)+0x80) [0x7fdb3d147490]\n  [bt] (3) /opt/conda/lib/libxgboost.so(XGDMatrixSetInfoFromInterface+0xec) [0x7fdb3d04cf4c]\n  [bt] (4) /opt/conda/lib/python3.10/lib-dynload/../../libffi.so.8(+0x6a4a) [0x7fdbff965a4a]\n  [bt] (5) /opt/conda/lib/python3.10/lib-dynload/../../libffi.so.8(+0x5fea) [0x7fdbff964fea]\n  [bt] (6) /opt/conda/lib/python3.10/lib-dynload/_ctypes.cpython-310-x86_64-linux-gnu.so(+0x12461) [0x7fdbff6db461]\n  [bt] (7) /opt/conda/lib/python3.10/lib-dynload/_ctypes.cpython-310-x86_64-linux-gnu.so(+0x86eb) [0x7fdbff6d16eb]\n  [bt] (8) /opt/conda/bin/python(_PyObject_MakeTpCall+0x26b) [0x558953ed6a6b]\n\n\n"
     ]
    }
   ],
   "source": [
    "print(\"Current time:\", datetime.now())\n",
    "model_results = train_xgboost_model(X_train, X_test, y_train, y_test)\n",
    "print(\"Current time:\", datetime.now())\n",
    "print(model_results)"
   ]
  },
  {
   "cell_type": "code",
   "execution_count": 24,
   "id": "482ff065-2dc7-41bd-a785-d5b9da815dbe",
   "metadata": {},
   "outputs": [
    {
     "name": "stdout",
     "output_type": "stream",
     "text": [
      "Current time: 2024-05-12 15:35:55.321086\n",
      "Current time: 2024-05-12 15:36:16.522628\n",
      "{'y_test': 9        30.0\n",
      "10       20.0\n",
      "11       31.0\n",
      "47       28.0\n",
      "48       27.0\n",
      "         ... \n",
      "53442    19.0\n",
      "53474    30.0\n",
      "53475    22.0\n",
      "53476    30.0\n",
      "53477    30.0\n",
      "Name: valuenum, Length: 10000, dtype: float64, 'predictions': array([30.35885 , 29.828495, 29.6162  , ..., 24.077116, 27.607758,\n",
      "       29.150644], dtype=float32), 'mse': 5.528349501477419, 'mae': 1.7958865118980407, 'r2': 0.7104673678252544, 'std_dev': 2.351202627127291, 'best_params': {'learning_rate': 0.1, 'max_depth': 3, 'n_estimators': 100}}\n"
     ]
    },
    {
     "ename": "NameError",
     "evalue": "name 'AllData' is not defined",
     "output_type": "error",
     "traceback": [
      "\u001b[0;31m---------------------------------------------------------------------------\u001b[0m",
      "\u001b[0;31mNameError\u001b[0m                                 Traceback (most recent call last)",
      "Cell \u001b[0;32mIn[24], line 7\u001b[0m\n\u001b[1;32m      3\u001b[0m \u001b[38;5;28mprint\u001b[39m(\u001b[38;5;124m\"\u001b[39m\u001b[38;5;124mCurrent time:\u001b[39m\u001b[38;5;124m\"\u001b[39m, datetime\u001b[38;5;241m.\u001b[39mnow())\n\u001b[1;32m      4\u001b[0m \u001b[38;5;28mprint\u001b[39m(model_results)\n\u001b[0;32m----> 7\u001b[0m y_last \u001b[38;5;241m=\u001b[39m \u001b[43mAllData\u001b[49m[LabName]\u001b[38;5;241m.\u001b[39miloc[model_results[\u001b[38;5;124m'\u001b[39m\u001b[38;5;124my_test\u001b[39m\u001b[38;5;124m'\u001b[39m]\u001b[38;5;241m.\u001b[39mindex]\n\u001b[1;32m      8\u001b[0m y_test \u001b[38;5;241m=\u001b[39m model_results[\u001b[38;5;124m'\u001b[39m\u001b[38;5;124my_test\u001b[39m\u001b[38;5;124m'\u001b[39m]\n\u001b[1;32m      9\u001b[0m y_pred \u001b[38;5;241m=\u001b[39m model_results[\u001b[38;5;124m'\u001b[39m\u001b[38;5;124mpredictions\u001b[39m\u001b[38;5;124m'\u001b[39m]\n",
      "\u001b[0;31mNameError\u001b[0m: name 'AllData' is not defined"
     ]
    }
   ],
   "source": [
    "y_last = AllData[LabName].iloc[model_results['y_test'].index]\n",
    "y_test = model_results['y_test']\n",
    "y_pred = model_results['predictions']\n",
    "valid_pos = y_last.notna()\n",
    "\n",
    "\n",
    "mse_last = mean_squared_error(y_test[valid_pos], y_last[valid_pos])\n",
    "r2_last = r2_score(y_test[valid_pos], y_last[valid_pos])\n",
    "mse_pred = mean_squared_error(y_test[valid_pos], y_pred[valid_pos])\n",
    "r2_pred = r2_score(y_test[valid_pos], y_pred[valid_pos])\n",
    "print(LabName)\n",
    "print(\"nearest neighbour mse \",round(mse_last,3),\"and r2: \",round(r2_last,3))\n",
    "print(\"xgboost imputation mse \",round(mse_pred,3),\"and r2: \", round(r2_pred,3))\n",
    "\n",
    "\n",
    "\n",
    "normalranges = {\n",
    "  \"Crt\": (0.7, 1.3),\n",
    "  \"Plt\": (150,450),\n",
    "  \"Hgb\": (12, 18),\n",
    "  \"Wbc\": (4, 11),\n",
    "  \"Ure\": (8, 20),\n",
    "  \"Sod\": (136, 145),\n",
    "  \"Bic\": (23, 28),\n",
    "  \"Pot\": (3.5, 5),\n",
    "}\n",
    "\n",
    "bins = [-1,normalranges[LabName][0],normalranges[LabName][1],10000]\n",
    "# Define labels for the categories\n",
    "labels = ['Low', 'Medium', 'High']\n",
    "y_test_cat = pd.cut(y_test[valid_pos],bins=bins, labels=labels).astype(str)\n",
    "y_last_cat = pd.cut(y_last[valid_pos],bins=bins, labels=labels).astype(str)\n",
    "y_pred_cat = pd.cut(y_pred[valid_pos],bins=bins, labels=labels).astype(str)\n",
    "print(LabName)\n",
    "print(bins)\n",
    "print(\"nearest neighbour mse \",round(mse_last,3),\"and r2: \",round(r2_last,3))\n",
    "print(\"xgboost imputation mse \",round(mse_pred,3),\"and r2: \", round(r2_pred,3))\n",
    "cm_last = confusion_matrix(y_test_cat,y_last_cat,labels=labels), \n",
    "print(\"confusion matrix for nearest neighbor\")\n",
    "print(cm_last)\n",
    "cm_pred = confusion_matrix(y_test_cat,y_pred_cat,labels=labels)\n",
    "print(\"confusion matrix for xgboost\")\n",
    "print(cm_pred)"
   ]
  },
  {
   "cell_type": "code",
   "execution_count": 6,
   "id": "3309949a-7e81-4355-bcb2-93621ac52e40",
   "metadata": {},
   "outputs": [
    {
     "name": "stdout",
     "output_type": "stream",
     "text": [
      "Crt\n",
      "[-1, 0.7, 1.3, 10000]\n",
      "nearest neighbour mse  0.213 and r2:  0.918\n",
      "xgboost imputation mse  0.151 and r2:  0.942\n",
      "confusion matrix for nearest neighbor\n",
      "(array([[ 87894,  13386,     75],\n",
      "       [ 13187, 121787,   8296],\n",
      "       [    66,   7402, 106249]]),)\n",
      "confusion matrix for xgboost\n",
      "[[ 73341  27944     70]\n",
      " [  5141 126140  11989]\n",
      " [    33   5214 108470]]\n"
     ]
    }
   ],
   "source": [
    "print(LabName)\n",
    "print(bins)\n",
    "print(\"nearest neighbour mse \",round(mse_last,3),\"and r2: \",round(r2_last,3))\n",
    "print(\"xgboost imputation mse \",round(mse_pred,3),\"and r2: \", round(r2_pred,3))\n",
    "cm_last = confusion_matrix(y_test_cat,y_last_cat,labels=labels), \n",
    "print(\"confusion matrix for nearest neighbor\")\n",
    "print(cm_last)\n",
    "cm_pred = confusion_matrix(y_test_cat,y_pred_cat,labels=labels)\n",
    "print(\"confusion matrix for xgboost\")\n",
    "print(cm_pred)"
   ]
  },
  {
   "cell_type": "code",
   "execution_count": null,
   "id": "5b62914b-23b1-4083-a105-cc455d8a8d50",
   "metadata": {},
   "outputs": [],
   "source": []
  }
 ],
 "metadata": {
  "kernelspec": {
   "display_name": "Python 3 (ipykernel)",
   "language": "python",
   "name": "python3"
  },
  "language_info": {
   "codemirror_mode": {
    "name": "ipython",
    "version": 3
   },
   "file_extension": ".py",
   "mimetype": "text/x-python",
   "name": "python",
   "nbconvert_exporter": "python",
   "pygments_lexer": "ipython3",
   "version": "3.10.14"
  }
 },
 "nbformat": 4,
 "nbformat_minor": 5
}
