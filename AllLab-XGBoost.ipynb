{
 "cells": [
  {
   "cell_type": "code",
   "execution_count": null,
   "id": "0aa437cc-7707-4b3b-aed4-211d99be809d",
   "metadata": {},
   "outputs": [],
   "source": [
    "!pip install xgboost\n",
    "!pip install s3fs"
   ]
  },
  {
   "cell_type": "code",
   "execution_count": 1,
   "id": "d116441e-8b6e-490a-a974-714fbab1ee92",
   "metadata": {},
   "outputs": [],
   "source": [
    "import matplotlib.pyplot as plt\n",
    "import pandas as pd\n",
    "import numpy as np\n",
    "from itertools import product\n",
    "from datetime import datetime, timedelta\n",
    "import matplotlib.pyplot as plt\n",
    "import xgboost as xgb\n",
    "from sklearn.model_selection import train_test_split,train_test_split, GridSearchCV\n",
    "from sklearn.metrics import accuracy_score,mean_squared_error, mean_absolute_error, r2_score,confusion_matrix\n",
    "from sklearn.preprocessing import MinMaxScaler"
   ]
  },
  {
   "cell_type": "code",
   "execution_count": 2,
   "id": "9b473685-0b34-4540-81cd-fe790b2cdbff",
   "metadata": {},
   "outputs": [],
   "source": [
    "def train_xgboost_model(X_train, X_test, y_train, y_test):\n",
    "    # Split the data into training and testing sets\n",
    "\n",
    "    # Define the XGBoost model\n",
    "    model = xgb.XGBRegressor(objective=\"reg:squarederror\")\n",
    "\n",
    "    # Define the hyperparameter grid for grid search\n",
    "    param_grid = {\n",
    "        'learning_rate': [0.01, 0.1, 0.2],\n",
    "        'max_depth': [3, 4, 5],\n",
    "        'n_estimators': [50, 100, 200],\n",
    "    }\n",
    "\n",
    "    # Use GridSearchCV to find the best hyperparameters\n",
    "    grid_search = GridSearchCV(model, param_grid, scoring='neg_mean_squared_error', cv=3)\n",
    "    grid_search.fit(X_train, y_train)\n",
    "\n",
    "    # Get the best model from the grid search\n",
    "    best_model = grid_search.best_estimator_\n",
    "\n",
    "    # Make predictions on the test set using the best model\n",
    "    predictions = best_model.predict(X_test)\n",
    "\n",
    "    # Calculate evaluation metrics\n",
    "    mse = mean_squared_error(y_test, predictions)\n",
    "    mae = mean_absolute_error(y_test, predictions)\n",
    "    r2 = r2_score(y_test, predictions)\n",
    "    std_dev = np.std(y_test - predictions)  # Standard deviation of residuals\n",
    "\n",
    "    return {\n",
    "        \"y_test\": y_test,\n",
    "        \"predictions\": predictions,\n",
    "        \"mse\": mse,\n",
    "        \"mae\": mae,\n",
    "        \"r2\": r2,\n",
    "        \"std_dev\": std_dev,\n",
    "        \"best_params\": grid_search.best_params_\n",
    "    }"
   ]
  },
  {
   "cell_type": "code",
   "execution_count": 3,
   "id": "9e841f3b-110f-44db-a329-beeb594ebfd3",
   "metadata": {},
   "outputs": [
    {
     "name": "stdout",
     "output_type": "stream",
     "text": [
      "51221\n"
     ]
    }
   ],
   "source": [
    "import boto3\n",
    "s3 = boto3.client('s3')\n",
    "itemid = 51221\n",
    "print(itemid)\n",
    "bucket_name = 'sagemaker-studio-905418013525-nvxe84zgs6'\n",
    "file_path = f\"Labrado/alllabs1000adm/alllabs1000adm_{itemid}.csv\"\n",
    "obj = s3.get_object(Bucket=bucket_name, Key=file_path)\n",
    "rawdata2 = pd.read_csv(obj['Body'])\n",
    "rawdata = rawdata2[~rawdata2['valuenum'].isna()]"
   ]
  },
  {
   "cell_type": "code",
   "execution_count": 7,
   "id": "4df74287-3bae-4acf-a46a-0c90ac42cf9b",
   "metadata": {},
   "outputs": [
    {
     "data": {
      "text/plain": [
       "51221"
      ]
     },
     "execution_count": 7,
     "metadata": {},
     "output_type": "execute_result"
    }
   ],
   "source": [
    "itemid"
   ]
  },
  {
   "cell_type": "code",
   "execution_count": 6,
   "id": "4ec00cc8-4f1e-4d4c-82d6-9487ea08cb77",
   "metadata": {},
   "outputs": [
    {
     "data": {
      "text/html": [
       "<div>\n",
       "<style scoped>\n",
       "    .dataframe tbody tr th:only-of-type {\n",
       "        vertical-align: middle;\n",
       "    }\n",
       "\n",
       "    .dataframe tbody tr th {\n",
       "        vertical-align: top;\n",
       "    }\n",
       "\n",
       "    .dataframe thead th {\n",
       "        text-align: right;\n",
       "    }\n",
       "</style>\n",
       "<table border=\"1\" class=\"dataframe\">\n",
       "  <thead>\n",
       "    <tr style=\"text-align: right;\">\n",
       "      <th></th>\n",
       "      <th>Unnamed: 0</th>\n",
       "      <th>hadm_id</th>\n",
       "      <th>chartyear</th>\n",
       "      <th>valuenum</th>\n",
       "      <th>charttime_diff_hours</th>\n",
       "      <th>50971</th>\n",
       "      <th>50971_dt</th>\n",
       "      <th>50983</th>\n",
       "      <th>50983_dt</th>\n",
       "      <th>50902</th>\n",
       "      <th>...</th>\n",
       "      <th>51088</th>\n",
       "      <th>51088_dt</th>\n",
       "      <th>51795</th>\n",
       "      <th>51795_dt</th>\n",
       "      <th>51068</th>\n",
       "      <th>51068_dt</th>\n",
       "      <th>51105</th>\n",
       "      <th>51105_dt</th>\n",
       "      <th>50881</th>\n",
       "      <th>50881_dt</th>\n",
       "    </tr>\n",
       "  </thead>\n",
       "  <tbody>\n",
       "    <tr>\n",
       "      <th>0</th>\n",
       "      <td>11</td>\n",
       "      <td>20000019</td>\n",
       "      <td>2159</td>\n",
       "      <td>26.5</td>\n",
       "      <td>0</td>\n",
       "      <td>3.5</td>\n",
       "      <td>0.0</td>\n",
       "      <td>137.0</td>\n",
       "      <td>0.0</td>\n",
       "      <td>103.0</td>\n",
       "      <td>...</td>\n",
       "      <td>NaN</td>\n",
       "      <td>NaN</td>\n",
       "      <td>NaN</td>\n",
       "      <td>NaN</td>\n",
       "      <td>NaN</td>\n",
       "      <td>NaN</td>\n",
       "      <td>NaN</td>\n",
       "      <td>NaN</td>\n",
       "      <td>NaN</td>\n",
       "      <td>NaN</td>\n",
       "    </tr>\n",
       "    <tr>\n",
       "      <th>1</th>\n",
       "      <td>28</td>\n",
       "      <td>20000019</td>\n",
       "      <td>2159</td>\n",
       "      <td>28.1</td>\n",
       "      <td>24</td>\n",
       "      <td>3.7</td>\n",
       "      <td>0.0</td>\n",
       "      <td>136.0</td>\n",
       "      <td>0.0</td>\n",
       "      <td>100.0</td>\n",
       "      <td>...</td>\n",
       "      <td>NaN</td>\n",
       "      <td>NaN</td>\n",
       "      <td>NaN</td>\n",
       "      <td>NaN</td>\n",
       "      <td>NaN</td>\n",
       "      <td>NaN</td>\n",
       "      <td>NaN</td>\n",
       "      <td>NaN</td>\n",
       "      <td>NaN</td>\n",
       "      <td>NaN</td>\n",
       "    </tr>\n",
       "    <tr>\n",
       "      <th>2</th>\n",
       "      <td>43</td>\n",
       "      <td>20000019</td>\n",
       "      <td>2159</td>\n",
       "      <td>23.9</td>\n",
       "      <td>49</td>\n",
       "      <td>3.9</td>\n",
       "      <td>0.0</td>\n",
       "      <td>138.0</td>\n",
       "      <td>0.0</td>\n",
       "      <td>102.0</td>\n",
       "      <td>...</td>\n",
       "      <td>NaN</td>\n",
       "      <td>NaN</td>\n",
       "      <td>NaN</td>\n",
       "      <td>NaN</td>\n",
       "      <td>NaN</td>\n",
       "      <td>NaN</td>\n",
       "      <td>NaN</td>\n",
       "      <td>NaN</td>\n",
       "      <td>NaN</td>\n",
       "      <td>NaN</td>\n",
       "    </tr>\n",
       "    <tr>\n",
       "      <th>3</th>\n",
       "      <td>73</td>\n",
       "      <td>20000019</td>\n",
       "      <td>2159</td>\n",
       "      <td>24.4</td>\n",
       "      <td>52</td>\n",
       "      <td>3.9</td>\n",
       "      <td>3.0</td>\n",
       "      <td>138.0</td>\n",
       "      <td>3.0</td>\n",
       "      <td>102.0</td>\n",
       "      <td>...</td>\n",
       "      <td>NaN</td>\n",
       "      <td>NaN</td>\n",
       "      <td>NaN</td>\n",
       "      <td>NaN</td>\n",
       "      <td>NaN</td>\n",
       "      <td>NaN</td>\n",
       "      <td>NaN</td>\n",
       "      <td>NaN</td>\n",
       "      <td>NaN</td>\n",
       "      <td>NaN</td>\n",
       "    </tr>\n",
       "    <tr>\n",
       "      <th>4</th>\n",
       "      <td>91</td>\n",
       "      <td>20000024</td>\n",
       "      <td>2151</td>\n",
       "      <td>32.1</td>\n",
       "      <td>0</td>\n",
       "      <td>5.2</td>\n",
       "      <td>0.0</td>\n",
       "      <td>140.0</td>\n",
       "      <td>0.0</td>\n",
       "      <td>104.0</td>\n",
       "      <td>...</td>\n",
       "      <td>NaN</td>\n",
       "      <td>NaN</td>\n",
       "      <td>NaN</td>\n",
       "      <td>NaN</td>\n",
       "      <td>NaN</td>\n",
       "      <td>NaN</td>\n",
       "      <td>NaN</td>\n",
       "      <td>NaN</td>\n",
       "      <td>NaN</td>\n",
       "      <td>NaN</td>\n",
       "    </tr>\n",
       "  </tbody>\n",
       "</table>\n",
       "<p>5 rows × 755 columns</p>\n",
       "</div>"
      ],
      "text/plain": [
       "   Unnamed: 0   hadm_id  chartyear  valuenum  charttime_diff_hours  50971  \\\n",
       "0          11  20000019       2159      26.5                     0    3.5   \n",
       "1          28  20000019       2159      28.1                    24    3.7   \n",
       "2          43  20000019       2159      23.9                    49    3.9   \n",
       "3          73  20000019       2159      24.4                    52    3.9   \n",
       "4          91  20000024       2151      32.1                     0    5.2   \n",
       "\n",
       "   50971_dt  50983  50983_dt  50902  ...  51088  51088_dt  51795  51795_dt  \\\n",
       "0       0.0  137.0       0.0  103.0  ...    NaN       NaN    NaN       NaN   \n",
       "1       0.0  136.0       0.0  100.0  ...    NaN       NaN    NaN       NaN   \n",
       "2       0.0  138.0       0.0  102.0  ...    NaN       NaN    NaN       NaN   \n",
       "3       3.0  138.0       3.0  102.0  ...    NaN       NaN    NaN       NaN   \n",
       "4       0.0  140.0       0.0  104.0  ...    NaN       NaN    NaN       NaN   \n",
       "\n",
       "   51068  51068_dt  51105  51105_dt  50881  50881_dt  \n",
       "0    NaN       NaN    NaN       NaN    NaN       NaN  \n",
       "1    NaN       NaN    NaN       NaN    NaN       NaN  \n",
       "2    NaN       NaN    NaN       NaN    NaN       NaN  \n",
       "3    NaN       NaN    NaN       NaN    NaN       NaN  \n",
       "4    NaN       NaN    NaN       NaN    NaN       NaN  \n",
       "\n",
       "[5 rows x 755 columns]"
      ]
     },
     "execution_count": 6,
     "metadata": {},
     "output_type": "execute_result"
    }
   ],
   "source": [
    "rawdata.head()"
   ]
  },
  {
   "cell_type": "code",
   "execution_count": 8,
   "id": "2de89b7c-87af-4821-a8ae-7fff20f62cfa",
   "metadata": {},
   "outputs": [
    {
     "name": "stderr",
     "output_type": "stream",
     "text": [
      "/opt/conda/lib/python3.10/site-packages/numpy/lib/function_base.py:2897: RuntimeWarning: invalid value encountered in divide\n",
      "  c /= stddev[:, None]\n",
      "/opt/conda/lib/python3.10/site-packages/numpy/lib/function_base.py:2898: RuntimeWarning: invalid value encountered in divide\n",
      "  c /= stddev[None, :]\n",
      "/opt/conda/lib/python3.10/site-packages/numpy/lib/function_base.py:2889: RuntimeWarning: Degrees of freedom <= 0 for slice\n",
      "  c = cov(x, y, rowvar, dtype=dtype)\n",
      "/opt/conda/lib/python3.10/site-packages/numpy/lib/function_base.py:2748: RuntimeWarning: divide by zero encountered in divide\n",
      "  c *= np.true_divide(1, fact)\n",
      "/opt/conda/lib/python3.10/site-packages/numpy/lib/function_base.py:2748: RuntimeWarning: invalid value encountered in multiply\n",
      "  c *= np.true_divide(1, fact)\n"
     ]
    }
   ],
   "source": [
    "sinx = 5\n",
    "correlation = rawdata[rawdata.columns[5::2]].corrwith(rawdata['valuenum'])\n",
    "# Sort the absolute correlation values in descending order\n",
    "correlation = correlation.abs().sort_values(ascending=False)\n",
    "# Select the top features based on correlation coefficient\n",
    "top_features = correlation[correlation>0].index.tolist()\n",
    "names_with_dt = [(i, i + '_dt') for i in top_features]\n",
    "feature_cols = [item for sublist in names_with_dt for item in sublist]"
   ]
  },
  {
   "cell_type": "code",
   "execution_count": 14,
   "id": "53a4b18e-eba9-4bcf-9744-a7d0339a14f8",
   "metadata": {},
   "outputs": [
    {
     "data": {
      "text/plain": [
       "51085    0.974197\n",
       "51222    0.960204\n",
       "51279    0.909245\n",
       "51221    0.900372\n",
       "51706    0.772290\n",
       "           ...   \n",
       "51425         NaN\n",
       "51426         NaN\n",
       "51505         NaN\n",
       "51946         NaN\n",
       "51945         NaN\n",
       "Length: 375, dtype: float64"
      ]
     },
     "execution_count": 14,
     "metadata": {},
     "output_type": "execute_result"
    }
   ],
   "source": [
    "correlation"
   ]
  },
  {
   "cell_type": "code",
   "execution_count": 9,
   "id": "96593002-965f-4e3c-a553-f8c2778abebe",
   "metadata": {},
   "outputs": [
    {
     "data": {
      "text/plain": [
       "576"
      ]
     },
     "execution_count": 9,
     "metadata": {},
     "output_type": "execute_result"
    }
   ],
   "source": [
    "len(feature_cols)"
   ]
  },
  {
   "cell_type": "code",
   "execution_count": 10,
   "id": "5c45c1a8-0a33-4d2d-9767-82123bb381f5",
   "metadata": {},
   "outputs": [
    {
     "name": "stdout",
     "output_type": "stream",
     "text": [
      "Current time: 2024-05-13 17:52:25.860570\n",
      "Current time: 2024-05-13 18:56:34.087888\n",
      "{'y_test': 10         38.4\n",
      "11         38.2\n",
      "12         39.0\n",
      "53         37.8\n",
      "54         27.7\n",
      "           ... \n",
      "2041598    23.1\n",
      "2041685    45.0\n",
      "2041686    43.1\n",
      "2041687    40.3\n",
      "2041688    37.5\n",
      "Name: valuenum, Length: 400297, dtype: float64, 'predictions': array([38.4217  , 38.19156 , 38.95583 , ..., 38.550613, 40.230312,\n",
      "       37.56675 ], dtype=float32), 'mse': 0.5283001752463896, 'mae': 0.22708373333689702, 'r2': 0.9858484382755082, 'std_dev': 0.7268415126115776, 'best_params': {'learning_rate': 0.1, 'max_depth': 5, 'n_estimators': 200}}\n"
     ]
    }
   ],
   "source": [
    "condition = rawdata['chartyear'] <= 2178\n",
    "X_train = rawdata[feature_cols][condition]\n",
    "X_test = rawdata[feature_cols][~condition]\n",
    "y_train = rawdata['valuenum'][condition]\n",
    "y_test = rawdata['valuenum'][~condition]\n",
    "print(\"Current time:\", datetime.now())\n",
    "model_results = train_xgboost_model(X_train, X_test, y_train, y_test)\n",
    "print(\"Current time:\", datetime.now())\n",
    "print(model_results)"
   ]
  },
  {
   "cell_type": "code",
   "execution_count": 11,
   "id": "6cbad5f2-2639-4bee-9f6d-5fac9d69e030",
   "metadata": {},
   "outputs": [
    {
     "name": "stdout",
     "output_type": "stream",
     "text": [
      "{'y_test': 10         38.4\n",
      "11         38.2\n",
      "12         39.0\n",
      "53         37.8\n",
      "54         27.7\n",
      "           ... \n",
      "2041598    23.1\n",
      "2041685    45.0\n",
      "2041686    43.1\n",
      "2041687    40.3\n",
      "2041688    37.5\n",
      "Name: valuenum, Length: 400297, dtype: float64, 'predictions': array([38.4217  , 38.19156 , 38.95583 , ..., 38.550613, 40.230312,\n",
      "       37.56675 ], dtype=float32), 'mse': 0.5283001752463896, 'mae': 0.22708373333689702, 'r2': 0.9858484382755082, 'std_dev': 0.7268415126115776, 'best_params': {'learning_rate': 0.1, 'max_depth': 5, 'n_estimators': 200}}\n"
     ]
    }
   ],
   "source": [
    "print(model_results)"
   ]
  },
  {
   "cell_type": "code",
   "execution_count": 13,
   "id": "482ff065-2dc7-41bd-a785-d5b9da815dbe",
   "metadata": {},
   "outputs": [
    {
     "name": "stdout",
     "output_type": "stream",
     "text": [
      "51221\n",
      "normal range [-1, 37, 50, 10000]\n",
      "test data shape (400297, 576)\n",
      "nearest neighbour mse  6.873 and r2:  0.804\n",
      "xgboost imputation mse  0.475 and r2:  0.986\n",
      "confusion matrix for nearest neighbor\n",
      "(array([[308039,  13148,     43],\n",
      "       [ 13926,  44022,    337],\n",
      "       [    38,    356,    488]]),)\n",
      "confusion matrix for xgboost\n",
      "[[319981   1248      1]\n",
      " [  1174  57066     45]\n",
      " [     2     45    835]]\n"
     ]
    }
   ],
   "source": [
    "y_last = X_test[f\"{itemid}\"]\n",
    "y_pred = model_results['predictions']\n",
    "valid_pos = y_last.notna()\n",
    "\n",
    "\n",
    "mse_last = mean_squared_error(y_test[valid_pos], y_last[valid_pos])\n",
    "r2_last = r2_score(y_test[valid_pos], y_last[valid_pos])\n",
    "mse_pred = mean_squared_error(y_test[valid_pos], y_pred[valid_pos])\n",
    "r2_pred = r2_score(y_test[valid_pos], y_pred[valid_pos])\n",
    "\n",
    "\n",
    "\n",
    "normalranges = {\n",
    "  \"Crt\": (0.7, 1.3),\n",
    "  \"Plt\": (150,450),\n",
    "  \"Hgb\": (12, 18),\n",
    "  \"Wbc\": (4, 11),\n",
    "  \"Ure\": (8, 20),\n",
    "  \"50983\": (136, 145),\n",
    "  \"Bic\": (23, 28),\n",
    "  \"50971\": (3.5, 5),\n",
    "  \"50902\": (98, 106),\n",
    "  \"51221\": (37,50),\n",
    "}\n",
    "\n",
    "bins = [-1,normalranges[f\"{itemid}\"][0],normalranges[f\"{itemid}\"][1],10000]\n",
    "# Define labels for the categories\n",
    "labels = ['Low', 'Medium', 'High']\n",
    "y_test_cat = pd.cut(y_test[valid_pos],bins=bins, labels=labels).astype(str)\n",
    "y_last_cat = pd.cut(y_last[valid_pos],bins=bins, labels=labels).astype(str)\n",
    "y_pred_cat = pd.cut(y_pred[valid_pos],bins=bins, labels=labels).astype(str)\n",
    "print(itemid)\n",
    "print(\"normal range\", bins)\n",
    "print(\"test data shape\",X_test.shape)\n",
    "print(\"nearest neighbour mse \",round(mse_last,3),\"and r2: \",round(r2_last,3))\n",
    "print(\"xgboost imputation mse \",round(mse_pred,3),\"and r2: \", round(r2_pred,3))\n",
    "cm_last = confusion_matrix(y_test_cat,y_last_cat,labels=labels), \n",
    "print(\"confusion matrix for nearest neighbor\")\n",
    "print(cm_last)\n",
    "cm_pred = confusion_matrix(y_test_cat,y_pred_cat,labels=labels)\n",
    "print(\"confusion matrix for xgboost\")\n",
    "print(cm_pred)"
   ]
  },
  {
   "cell_type": "code",
   "execution_count": null,
   "id": "7d52d511-87a0-44b0-b16b-aa5fd544dcdc",
   "metadata": {},
   "outputs": [],
   "source": []
  }
 ],
 "metadata": {
  "kernelspec": {
   "display_name": "Python 3 (ipykernel)",
   "language": "python",
   "name": "python3"
  },
  "language_info": {
   "codemirror_mode": {
    "name": "ipython",
    "version": 3
   },
   "file_extension": ".py",
   "mimetype": "text/x-python",
   "name": "python",
   "nbconvert_exporter": "python",
   "pygments_lexer": "ipython3",
   "version": "3.10.14"
  }
 },
 "nbformat": 4,
 "nbformat_minor": 5
}
